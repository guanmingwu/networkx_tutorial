{
 "cells": [
  {
   "cell_type": "code",
   "execution_count": 482,
   "metadata": {},
   "outputs": [],
   "source": [
    "import pandas as pd \n",
    "import networkx as nx \n",
    "from cdlib import algorithms\n",
    "import numpy as np\n",
    "from matplotlib import pyplot as plt\n",
    "import sknetwork as skn\n",
    "from sknetwork.embedding import Spectral\n",
    "from sklearn.svm import SVC\n",
    "from sklearn.metrics import precision_recall_fscore_support, confusion_matrix, ConfusionMatrixDisplay, roc_auc_score\n",
    "import torch \n",
    "from sklearn.calibration import CalibrationDisplay\n"
   ]
  },
  {
   "cell_type": "code",
   "execution_count": 4,
   "metadata": {},
   "outputs": [
    {
     "data": {
      "text/html": [
       "<div>\n",
       "<style scoped>\n",
       "    .dataframe tbody tr th:only-of-type {\n",
       "        vertical-align: middle;\n",
       "    }\n",
       "\n",
       "    .dataframe tbody tr th {\n",
       "        vertical-align: top;\n",
       "    }\n",
       "\n",
       "    .dataframe thead th {\n",
       "        text-align: right;\n",
       "    }\n",
       "</style>\n",
       "<table border=\"1\" class=\"dataframe\">\n",
       "  <thead>\n",
       "    <tr style=\"text-align: right;\">\n",
       "      <th></th>\n",
       "      <th>Gene ID</th>\n",
       "      <th>Essentiality (determined from multiple datasets)</th>\n",
       "      <th>Data Source</th>\n",
       "    </tr>\n",
       "  </thead>\n",
       "  <tbody>\n",
       "    <tr>\n",
       "      <th>0</th>\n",
       "      <td>122809</td>\n",
       "      <td>Non-essential</td>\n",
       "      <td>PMID:26472758,PMID:26472760,PMID:18239125</td>\n",
       "    </tr>\n",
       "    <tr>\n",
       "      <th>1</th>\n",
       "      <td>64359</td>\n",
       "      <td>Non-essential</td>\n",
       "      <td>PMID:26472758,PMID:26472760,PMID:18239125</td>\n",
       "    </tr>\n",
       "    <tr>\n",
       "      <th>2</th>\n",
       "      <td>11218</td>\n",
       "      <td>Essential</td>\n",
       "      <td>PMID:26472758,PMID:26472760,PMID:18239125,PMID...</td>\n",
       "    </tr>\n",
       "    <tr>\n",
       "      <th>3</th>\n",
       "      <td>401236</td>\n",
       "      <td>Non-essential</td>\n",
       "      <td>PMID:26472758</td>\n",
       "    </tr>\n",
       "    <tr>\n",
       "      <th>4</th>\n",
       "      <td>27115</td>\n",
       "      <td>Non-essential</td>\n",
       "      <td>PMID:26472758,PMID:26472760,PMID:18239125</td>\n",
       "    </tr>\n",
       "  </tbody>\n",
       "</table>\n",
       "</div>"
      ],
      "text/plain": [
       "   Gene ID Essentiality (determined from multiple datasets)  \\\n",
       "0   122809                                    Non-essential   \n",
       "1    64359                                    Non-essential   \n",
       "2    11218                                        Essential   \n",
       "3   401236                                    Non-essential   \n",
       "4    27115                                    Non-essential   \n",
       "\n",
       "                                         Data Source  \n",
       "0          PMID:26472758,PMID:26472760,PMID:18239125  \n",
       "1          PMID:26472758,PMID:26472760,PMID:18239125  \n",
       "2  PMID:26472758,PMID:26472760,PMID:18239125,PMID...  \n",
       "3                                      PMID:26472758  \n",
       "4          PMID:26472758,PMID:26472760,PMID:18239125  "
      ]
     },
     "execution_count": 4,
     "metadata": {},
     "output_type": "execute_result"
    }
   ],
   "source": [
    "ess = pd.read_csv('../data/G-HumanEssential.tsv', sep='\\t')\n",
    "ess.head()"
   ]
  },
  {
   "cell_type": "code",
   "execution_count": 11,
   "metadata": {},
   "outputs": [
    {
     "data": {
      "text/plain": [
       "(18528, 3)"
      ]
     },
     "execution_count": 11,
     "metadata": {},
     "output_type": "execute_result"
    }
   ],
   "source": [
    "ess.shape"
   ]
  },
  {
   "cell_type": "code",
   "execution_count": 22,
   "metadata": {},
   "outputs": [
    {
     "data": {
      "text/html": [
       "<div>\n",
       "<style scoped>\n",
       "    .dataframe tbody tr th:only-of-type {\n",
       "        vertical-align: middle;\n",
       "    }\n",
       "\n",
       "    .dataframe tbody tr th {\n",
       "        vertical-align: top;\n",
       "    }\n",
       "\n",
       "    .dataframe thead th {\n",
       "        text-align: right;\n",
       "    }\n",
       "</style>\n",
       "<table border=\"1\" class=\"dataframe\">\n",
       "  <thead>\n",
       "    <tr style=\"text-align: right;\">\n",
       "      <th></th>\n",
       "      <th>source</th>\n",
       "      <th>target</th>\n",
       "    </tr>\n",
       "  </thead>\n",
       "  <tbody>\n",
       "    <tr>\n",
       "      <th>0</th>\n",
       "      <td>114787</td>\n",
       "      <td>375519</td>\n",
       "    </tr>\n",
       "    <tr>\n",
       "      <th>1</th>\n",
       "      <td>114787</td>\n",
       "      <td>285613</td>\n",
       "    </tr>\n",
       "    <tr>\n",
       "      <th>2</th>\n",
       "      <td>114787</td>\n",
       "      <td>7448</td>\n",
       "    </tr>\n",
       "    <tr>\n",
       "      <th>3</th>\n",
       "      <td>114787</td>\n",
       "      <td>4914</td>\n",
       "    </tr>\n",
       "    <tr>\n",
       "      <th>4</th>\n",
       "      <td>114787</td>\n",
       "      <td>51343</td>\n",
       "    </tr>\n",
       "  </tbody>\n",
       "</table>\n",
       "</div>"
      ],
      "text/plain": [
       "   source  target\n",
       "0  114787  375519\n",
       "1  114787  285613\n",
       "2  114787    7448\n",
       "3  114787    4914\n",
       "4  114787   51343"
      ]
     },
     "execution_count": 22,
     "metadata": {},
     "output_type": "execute_result"
    }
   ],
   "source": [
    "ppi = pd.read_csv('../data/PP-Decagon_ppi.csv', sep=',', header=None).rename({0:'source', 1:'target'}, axis=1)\n",
    "ppi.head()"
   ]
  },
  {
   "cell_type": "code",
   "execution_count": null,
   "metadata": {},
   "outputs": [],
   "source": [
    "proteins = set(ppi.values.reshape(-1))\n",
    "genes = set(ess['Gene ID'].values)\n",
    "shared = proteins.intersection(genes)\n"
   ]
  },
  {
   "cell_type": "code",
   "execution_count": 24,
   "metadata": {},
   "outputs": [
    {
     "data": {
      "text/plain": [
       "650272"
      ]
     },
     "execution_count": 24,
     "metadata": {},
     "output_type": "execute_result"
    }
   ],
   "source": [
    "ppi_shared = ppi[lambda x: (x.source.isin(shared) & x.target.isin(shared))]\n",
    "len(ppi_shared)"
   ]
  },
  {
   "cell_type": "code",
   "execution_count": 25,
   "metadata": {},
   "outputs": [
    {
     "data": {
      "text/plain": [
       "17261"
      ]
     },
     "execution_count": 25,
     "metadata": {},
     "output_type": "execute_result"
    }
   ],
   "source": [
    "G = nx.from_pandas_edgelist(ppi_shared)\n",
    "len(G)"
   ]
  },
  {
   "cell_type": "code",
   "execution_count": 30,
   "metadata": {},
   "outputs": [
    {
     "data": {
      "text/plain": [
       "17246"
      ]
     },
     "execution_count": 30,
     "metadata": {},
     "output_type": "execute_result"
    }
   ],
   "source": [
    "largest_comp = next(iter(nx.connected_components(G)))\n",
    "len(largest_comp)"
   ]
  },
  {
   "cell_type": "code",
   "execution_count": 32,
   "metadata": {},
   "outputs": [
    {
     "data": {
      "text/plain": [
       "650264"
      ]
     },
     "execution_count": 32,
     "metadata": {},
     "output_type": "execute_result"
    }
   ],
   "source": [
    "ppi_shared2 = ppi_shared[lambda x: (x.source.isin(largest_comp) & x.target.isin(largest_comp))]\n",
    "len(ppi_shared2)"
   ]
  },
  {
   "cell_type": "code",
   "execution_count": 35,
   "metadata": {},
   "outputs": [
    {
     "data": {
      "text/plain": [
       "17246"
      ]
     },
     "execution_count": 35,
     "metadata": {},
     "output_type": "execute_result"
    }
   ],
   "source": [
    "G2 = nx.from_pandas_edgelist(ppi_shared2)\n",
    "len(G2)"
   ]
  },
  {
   "cell_type": "code",
   "execution_count": 39,
   "metadata": {},
   "outputs": [],
   "source": [
    "coms = algorithms.infomap(G2) "
   ]
  },
  {
   "cell_type": "code",
   "execution_count": 43,
   "metadata": {},
   "outputs": [
    {
     "name": "stdout",
     "output_type": "stream",
     "text": [
      "community 0: size: 7097 | density: 0.01 | avg. cluster coef.: 0.260\n",
      "community 1: size: 641 | density: 0.02 | avg. cluster coef.: 0.104\n",
      "community 2: size: 620 | density: 0.07 | avg. cluster coef.: 0.453\n",
      "community 3: size: 579 | density: 0.08 | avg. cluster coef.: 0.560\n",
      "community 4: size: 470 | density: 0.27 | avg. cluster coef.: 0.817\n",
      "community 5: size: 327 | density: 0.06 | avg. cluster coef.: 0.565\n",
      "community 6: size: 308 | density: 0.48 | avg. cluster coef.: 0.868\n",
      "community 7: size: 297 | density: 0.13 | avg. cluster coef.: 0.539\n",
      "community 8: size: 293 | density: 0.14 | avg. cluster coef.: 0.595\n",
      "community 9: size: 263 | density: 0.22 | avg. cluster coef.: 0.740\n",
      "community 10: size: 221 | density: 0.05 | avg. cluster coef.: 0.328\n",
      "community 11: size: 216 | density: 0.08 | avg. cluster coef.: 0.545\n",
      "community 12: size: 215 | density: 0.23 | avg. cluster coef.: 0.729\n",
      "community 13: size: 192 | density: 0.15 | avg. cluster coef.: 0.532\n",
      "community 14: size: 164 | density: 0.19 | avg. cluster coef.: 0.528\n",
      "community 15: size: 147 | density: 0.16 | avg. cluster coef.: 0.489\n",
      "community 16: size: 144 | density: 0.18 | avg. cluster coef.: 0.553\n",
      "community 17: size: 143 | density: 0.05 | avg. cluster coef.: 0.235\n",
      "community 18: size: 123 | density: 0.10 | avg. cluster coef.: 0.485\n",
      "community 19: size: 119 | density: 0.11 | avg. cluster coef.: 0.448\n",
      "community 20: size: 116 | density: 0.17 | avg. cluster coef.: 0.560\n",
      "community 21: size: 115 | density: 0.62 | avg. cluster coef.: 0.877\n",
      "community 22: size: 114 | density: 0.26 | avg. cluster coef.: 0.705\n",
      "community 23: size: 93 | density: 0.29 | avg. cluster coef.: 0.754\n",
      "community 24: size: 93 | density: 0.12 | avg. cluster coef.: 0.521\n",
      "community 25: size: 89 | density: 0.15 | avg. cluster coef.: 0.658\n",
      "community 26: size: 86 | density: 0.31 | avg. cluster coef.: 0.778\n",
      "community 27: size: 82 | density: 0.15 | avg. cluster coef.: 0.485\n",
      "community 28: size: 82 | density: 0.05 | avg. cluster coef.: 0.428\n",
      "community 29: size: 79 | density: 0.38 | avg. cluster coef.: 0.680\n",
      "community 30: size: 79 | density: 0.32 | avg. cluster coef.: 0.706\n",
      "community 31: size: 72 | density: 0.09 | avg. cluster coef.: 0.185\n",
      "community 32: size: 71 | density: 0.13 | avg. cluster coef.: 0.435\n",
      "community 33: size: 68 | density: 0.07 | avg. cluster coef.: 0.035\n",
      "community 34: size: 66 | density: 0.23 | avg. cluster coef.: 0.654\n",
      "community 35: size: 66 | density: 0.09 | avg. cluster coef.: 0.411\n",
      "community 36: size: 63 | density: 0.13 | avg. cluster coef.: 0.420\n",
      "community 37: size: 62 | density: 0.27 | avg. cluster coef.: 0.661\n",
      "community 38: size: 62 | density: 0.30 | avg. cluster coef.: 0.632\n",
      "community 39: size: 61 | density: 0.23 | avg. cluster coef.: 0.518\n",
      "community 40: size: 53 | density: 0.10 | avg. cluster coef.: 0.055\n",
      "community 41: size: 53 | density: 0.73 | avg. cluster coef.: 0.935\n",
      "community 42: size: 52 | density: 0.34 | avg. cluster coef.: 0.657\n"
     ]
    }
   ],
   "source": [
    "for i,com in enumerate(coms.communities): \n",
    "    if len(com) > 50: print(f'community {i}: size: {len(com)} | density: {nx.density(G2.subgraph(com)):.2f} | avg. cluster coef.: {np.array(list(nx.cluster.clustering(G2.subgraph(com)).values())).mean():.3f}')"
   ]
  },
  {
   "cell_type": "code",
   "execution_count": null,
   "metadata": {},
   "outputs": [],
   "source": []
  },
  {
   "cell_type": "code",
   "execution_count": 503,
   "metadata": {},
   "outputs": [
    {
     "name": "stdout",
     "output_type": "stream",
     "text": [
      "ppi edges: 3378\n",
      "ess nodes: 641\n"
     ]
    }
   ],
   "source": [
    "mycom = coms.communities[1]\n",
    "ppi_small = ppi_shared[lambda x: (x.source.isin(mycom) & x.target.isin(mycom))]\n",
    "ess_small = ess[lambda x: x['Gene ID'].isin(mycom)]\n",
    "print('ppi edges:', len(ppi_small))\n",
    "print('ess nodes:', len(ess_small))"
   ]
  },
  {
   "cell_type": "code",
   "execution_count": 504,
   "metadata": {},
   "outputs": [],
   "source": [
    "G_small = nx.from_pandas_edgelist(ppi_small)\n",
    "A = nx.adjacency_matrix(G_small)\n",
    "nodes = list(G_small.nodes())"
   ]
  },
  {
   "cell_type": "code",
   "execution_count": 505,
   "metadata": {},
   "outputs": [
    {
     "data": {
      "text/html": [
       "<div>\n",
       "<style scoped>\n",
       "    .dataframe tbody tr th:only-of-type {\n",
       "        vertical-align: middle;\n",
       "    }\n",
       "\n",
       "    .dataframe tbody tr th {\n",
       "        vertical-align: top;\n",
       "    }\n",
       "\n",
       "    .dataframe thead th {\n",
       "        text-align: right;\n",
       "    }\n",
       "</style>\n",
       "<table border=\"1\" class=\"dataframe\">\n",
       "  <thead>\n",
       "    <tr style=\"text-align: right;\">\n",
       "      <th></th>\n",
       "      <th>index</th>\n",
       "      <th>node_order</th>\n",
       "      <th>Gene ID</th>\n",
       "      <th>Essentiality (determined from multiple datasets)</th>\n",
       "      <th>Data Source</th>\n",
       "      <th>ess</th>\n",
       "    </tr>\n",
       "  </thead>\n",
       "  <tbody>\n",
       "    <tr>\n",
       "      <th>0</th>\n",
       "      <td>0</td>\n",
       "      <td>114789</td>\n",
       "      <td>114789</td>\n",
       "      <td>Non-essential</td>\n",
       "      <td>PMID:26472758,PMID:26472760,PMID:18239125,PMID...</td>\n",
       "      <td>0.0</td>\n",
       "    </tr>\n",
       "    <tr>\n",
       "      <th>1</th>\n",
       "      <td>1</td>\n",
       "      <td>6564</td>\n",
       "      <td>6564</td>\n",
       "      <td>Non-essential</td>\n",
       "      <td>PMID:26472758,PMID:26472760,PMID:18239125</td>\n",
       "      <td>0.0</td>\n",
       "    </tr>\n",
       "    <tr>\n",
       "      <th>2</th>\n",
       "      <td>2</td>\n",
       "      <td>79085</td>\n",
       "      <td>79085</td>\n",
       "      <td>Non-essential</td>\n",
       "      <td>PMID:26472758,PMID:26472760,PMID:18239125</td>\n",
       "      <td>0.0</td>\n",
       "    </tr>\n",
       "    <tr>\n",
       "      <th>3</th>\n",
       "      <td>3</td>\n",
       "      <td>974</td>\n",
       "      <td>974</td>\n",
       "      <td>Non-essential</td>\n",
       "      <td>PMID:26472758,PMID:26472760,PMID:18239125</td>\n",
       "      <td>0.0</td>\n",
       "    </tr>\n",
       "    <tr>\n",
       "      <th>4</th>\n",
       "      <td>4</td>\n",
       "      <td>961</td>\n",
       "      <td>961</td>\n",
       "      <td>Non-essential</td>\n",
       "      <td>PMID:26472758,PMID:26472760,PMID:18239125</td>\n",
       "      <td>0.0</td>\n",
       "    </tr>\n",
       "  </tbody>\n",
       "</table>\n",
       "</div>"
      ],
      "text/plain": [
       "   index  node_order  Gene ID  \\\n",
       "0      0      114789   114789   \n",
       "1      1        6564     6564   \n",
       "2      2       79085    79085   \n",
       "3      3         974      974   \n",
       "4      4         961      961   \n",
       "\n",
       "  Essentiality (determined from multiple datasets)  \\\n",
       "0                                    Non-essential   \n",
       "1                                    Non-essential   \n",
       "2                                    Non-essential   \n",
       "3                                    Non-essential   \n",
       "4                                    Non-essential   \n",
       "\n",
       "                                         Data Source  ess  \n",
       "0  PMID:26472758,PMID:26472760,PMID:18239125,PMID...  0.0  \n",
       "1          PMID:26472758,PMID:26472760,PMID:18239125  0.0  \n",
       "2          PMID:26472758,PMID:26472760,PMID:18239125  0.0  \n",
       "3          PMID:26472758,PMID:26472760,PMID:18239125  0.0  \n",
       "4          PMID:26472758,PMID:26472760,PMID:18239125  0.0  "
      ]
     },
     "execution_count": 505,
     "metadata": {},
     "output_type": "execute_result"
    }
   ],
   "source": [
    "x_df = pd.DataFrame(nodes, columns=['node_order']).reset_index().merge(ess_small, left_on='node_order', right_on='Gene ID').assign(ess = lambda x: [float(y == 'Essential') for y in x['Essentiality (determined from multiple datasets)']])\n",
    "x_df.head()"
   ]
  },
  {
   "cell_type": "code",
   "execution_count": 506,
   "metadata": {},
   "outputs": [
    {
     "data": {
      "text/html": [
       "<div>\n",
       "<style scoped>\n",
       "    .dataframe tbody tr th:only-of-type {\n",
       "        vertical-align: middle;\n",
       "    }\n",
       "\n",
       "    .dataframe tbody tr th {\n",
       "        vertical-align: top;\n",
       "    }\n",
       "\n",
       "    .dataframe thead th {\n",
       "        text-align: right;\n",
       "    }\n",
       "</style>\n",
       "<table border=\"1\" class=\"dataframe\">\n",
       "  <thead>\n",
       "    <tr style=\"text-align: right;\">\n",
       "      <th></th>\n",
       "      <th>index</th>\n",
       "      <th>node_order</th>\n",
       "      <th>Gene ID</th>\n",
       "      <th>Data Source</th>\n",
       "      <th>ess</th>\n",
       "    </tr>\n",
       "    <tr>\n",
       "      <th>Essentiality (determined from multiple datasets)</th>\n",
       "      <th></th>\n",
       "      <th></th>\n",
       "      <th></th>\n",
       "      <th></th>\n",
       "      <th></th>\n",
       "    </tr>\n",
       "  </thead>\n",
       "  <tbody>\n",
       "    <tr>\n",
       "      <th>Essential</th>\n",
       "      <td>13</td>\n",
       "      <td>13</td>\n",
       "      <td>13</td>\n",
       "      <td>13</td>\n",
       "      <td>13</td>\n",
       "    </tr>\n",
       "    <tr>\n",
       "      <th>Non-essential</th>\n",
       "      <td>628</td>\n",
       "      <td>628</td>\n",
       "      <td>628</td>\n",
       "      <td>628</td>\n",
       "      <td>628</td>\n",
       "    </tr>\n",
       "  </tbody>\n",
       "</table>\n",
       "</div>"
      ],
      "text/plain": [
       "                                                  index  node_order  Gene ID  \\\n",
       "Essentiality (determined from multiple datasets)                               \n",
       "Essential                                            13          13       13   \n",
       "Non-essential                                       628         628      628   \n",
       "\n",
       "                                                  Data Source  ess  \n",
       "Essentiality (determined from multiple datasets)                    \n",
       "Essential                                                  13   13  \n",
       "Non-essential                                             628  628  "
      ]
     },
     "execution_count": 506,
     "metadata": {},
     "output_type": "execute_result"
    }
   ],
   "source": [
    "x_df.groupby(['Essentiality (determined from multiple datasets)']).count()"
   ]
  },
  {
   "cell_type": "code",
   "execution_count": 507,
   "metadata": {},
   "outputs": [
    {
     "data": {
      "text/plain": [
       "13.0"
      ]
     },
     "execution_count": 507,
     "metadata": {},
     "output_type": "execute_result"
    }
   ],
   "source": [
    "x_df.ess.sum()"
   ]
  },
  {
   "cell_type": "code",
   "execution_count": 508,
   "metadata": {},
   "outputs": [],
   "source": [
    "#pos = nx.spring_layout(G_small)"
   ]
  },
  {
   "cell_type": "code",
   "execution_count": 509,
   "metadata": {},
   "outputs": [],
   "source": [
    "#plt.figure(figsize=(12,12))\n",
    "#nx.draw_networkx_nodes(G_small, node_color=x_df.ess, pos=pos, alpha=0.5)\n",
    "#nx.draw_networkx_edges(G_small, pos=pos, alpha=0.1)"
   ]
  },
  {
   "cell_type": "code",
   "execution_count": 510,
   "metadata": {},
   "outputs": [],
   "source": [
    "spectral = Spectral(10) \n",
    "embed = spectral.fit_transform(A)"
   ]
  },
  {
   "cell_type": "code",
   "execution_count": 512,
   "metadata": {},
   "outputs": [
    {
     "data": {
      "image/png": "[encoded data removed]",
      "text/plain": [
       "<Figure size 1800x720 with 10 Axes>"
      ]
     },
     "metadata": {
      "needs_background": "light"
     },
     "output_type": "display_data"
    }
   ],
   "source": [
    "f,axes = plt.subplots(2,5, figsize=(25,10), sharex=False, sharey=False)\n",
    "for u, ax in zip(embed.T, axes.flat):\n",
    "    ax.hist(u[(x_df.ess == 1)], color='r', alpha=0.2, density=True)\n",
    "    ax.hist(u[(x_df.ess == 0)], color='b', alpha=0.2, density=True)\n",
    "\n",
    "plt.tight_layout()\n",
    "plt.show()"
   ]
  },
  {
   "cell_type": "code",
   "execution_count": 513,
   "metadata": {},
   "outputs": [
    {
     "name": "stdout",
     "output_type": "stream",
     "text": [
      "training positive examples: 10.0\n",
      "testing positive examples: 3.0\n"
     ]
    },
    {
     "data": {
      "text/plain": [
       "0.9772727272727273"
      ]
     },
     "execution_count": 513,
     "metadata": {},
     "output_type": "execute_result"
    }
   ],
   "source": [
    "X = embed \n",
    "y = x_df.ess.values\n",
    "\n",
    "train_mask = np.random.choice([True, False], p=[0.8, 0.2], size=y.shape[0])\n",
    "test_mask = ~train_mask \n",
    "\n",
    "print('training positive examples:', y[train_mask].sum())\n",
    "print('testing positive examples:', y[test_mask].sum())\n",
    "\n",
    "clf = SVC(gamma='auto', class_weight='balanced').fit(X[train_mask], y[train_mask])\n",
    "clf.score(X[test_mask], y[test_mask])"
   ]
  },
  {
   "cell_type": "code",
   "execution_count": 514,
   "metadata": {},
   "outputs": [
    {
     "data": {
      "text/plain": [
       "0.0"
      ]
     },
     "execution_count": 514,
     "metadata": {},
     "output_type": "execute_result"
    }
   ],
   "source": [
    "yhat = clf.predict(X)\n",
    "yhat.sum()"
   ]
  },
  {
   "cell_type": "markdown",
   "metadata": {},
   "source": [
    "# Graph Neural Network "
   ]
  },
  {
   "cell_type": "code",
   "execution_count": 515,
   "metadata": {},
   "outputs": [],
   "source": [
    "A = A.todense()"
   ]
  },
  {
   "cell_type": "code",
   "execution_count": 809,
   "metadata": {},
   "outputs": [],
   "source": [
    "class GNN(torch.nn.Module): \n",
    "    def __init__(self, input, channels, normalize=True, cache=True, dropout=0.0): \n",
    "        super(GNN, self).__init__() \n",
    "\n",
    "\n",
    "        self.f1 = torch.nn.Linear(input, channels)\n",
    "        self.f2 = torch.nn.Linear(channels, channels)\n",
    "        self.f3 = torch.nn.Linear(channels, channels)\n",
    "        self.f_out = torch.nn.Sequential(torch.nn.Linear(channels, channels), torch.nn.ReLU(), torch.nn.Linear(channels, 1))\n",
    "        self.nonlin = torch.nn.ReLU()\n",
    "        self.norm = None\n",
    "        self.cache = cache\n",
    "        self.do = torch.nn.Dropout(dropout)\n",
    "        self.bn = torch.nn.BatchNorm1d(channels)\n",
    "        self.normalize=normalize\n",
    "\n",
    "    def norm_adj(self, A): \n",
    "        '''\n",
    "        normalize by GCN method\n",
    "        '''\n",
    "        #D = torch.eye(A.size(0)) * A.sum(axis=1)\n",
    "        Dinv = torch.diag_embed(torch.pow(A.sum(dim=-1),-0.5))\n",
    "        return Dinv @ A @ Dinv\n",
    "\n",
    "    def forward(self, A, x):  \n",
    "\n",
    "        \n",
    "        A = self.norm_adj(A)\n",
    "        \n",
    "        h1 = self.nonlin((A @ self.f1(x)))    # what neighborhood size does this embedding contain?\n",
    "        #h1 = self.bn(h1)\n",
    "        h1 = self.do(h1)\n",
    "        h2 = self.nonlin((A @ self.f2(h1)))\n",
    "        #h2 = self.bn(h2)\n",
    "        h2 = self.do(h2)\n",
    "        h3 = self.nonlin((A @ self.f3(h2)))\n",
    "        #h3 = self.bn(h3)\n",
    "        h3 = self.do(h3)\n",
    "        return torch.sigmoid( self.f_out(h3) ).squeeze()"
   ]
  },
  {
   "cell_type": "code",
   "execution_count": null,
   "metadata": {},
   "outputs": [],
   "source": []
  },
  {
   "cell_type": "code",
   "execution_count": null,
   "metadata": {},
   "outputs": [],
   "source": []
  },
  {
   "cell_type": "code",
   "execution_count": 810,
   "metadata": {},
   "outputs": [],
   "source": [
    "model = GNN(1, 75, normalize=True, cache=True, dropout=0.1)\n",
    "\n",
    "y = torch.tensor(x_df.ess.values, dtype=torch.float)\n",
    "x = torch.ones_like(y).unsqueeze(-1)\n",
    "A = torch.tensor(A, dtype=torch.float)\n",
    "\n",
    "# self connections\n",
    "A[torch.eye(A.size(0), dtype=torch.bool)] = 1\n",
    "\n",
    "train_mask = torch.tensor(train_mask, dtype=torch.bool)\n",
    "test_mask = torch.tensor(test_mask, dtype=torch.bool)"
   ]
  },
  {
   "cell_type": "code",
   "execution_count": 811,
   "metadata": {},
   "outputs": [],
   "source": [
    "weights = torch.ones_like(y[train_mask])\n",
    "n_neg = (y[train_mask] == 0).sum()\n",
    "n_pos = (y[train_mask] == 1).sum()\n",
    "weights[y[train_mask] == 1] = n_neg / n_pos"
   ]
  },
  {
   "cell_type": "code",
   "execution_count": 812,
   "metadata": {},
   "outputs": [],
   "source": [
    "optim = torch.optim.Adam(model.parameters(), lr=1e-4)\n",
    "crit = torch.nn.BCELoss(reduction='none')"
   ]
  },
  {
   "cell_type": "code",
   "execution_count": 813,
   "metadata": {},
   "outputs": [
    {
     "name": "stdout",
     "output_type": "stream",
     "text": [
      "EPOCH: 1999 || test acc: 0.5666666686534881 || roc: 0.84\r"
     ]
    }
   ],
   "source": [
    "model = model.train()\n",
    "test_roc = []\n",
    "train_roc = []\n",
    "test_acc = [] \n",
    "train_acc = []\n",
    "mean_window=10\n",
    "\n",
    "for epoch in range(2000): \n",
    "    optim.zero_grad()\n",
    "    yhat = model(A, x)\n",
    "    losses = crit(yhat[train_mask], y[train_mask])\n",
    "    loss = (losses*weights).mean()\n",
    "    #l2 = (yhat[train_mask].mean() - 0.5)**2\n",
    "    #loss += l2 \n",
    "    loss.backward() \n",
    "    torch.nn.utils.clip_grad_norm_(model.parameters(), max_norm=1)\n",
    "    optim.step()\n",
    "\n",
    "    with torch.no_grad(): \n",
    "        yhat = model(A, x)\n",
    "        #precision, recall, _, _  = precision_recall_fscore_support(y[test_mask].detach().numpy(), yhat[test_mask].detach().numpy() > 0.5, average='binary')\n",
    "        train_roc.append( roc_auc_score(y[train_mask].detach().numpy(), yhat[train_mask].detach().numpy()) )\n",
    "        test_roc.append( roc_auc_score(y[test_mask].detach().numpy(), yhat[test_mask].detach().numpy()) )\n",
    "        train_acc.append((1.*((yhat[train_mask] > 0.5) == y[train_mask])).mean().item())\n",
    "        test_acc.append((1.*((yhat[test_mask] > 0.5) == y[test_mask])).mean().item())\n",
    "        if epoch > mean_window: print(f'EPOCH: {epoch} || test acc: {np.mean(test_acc[-mean_window:])} || roc: {np.mean(test_roc[-mean_window:]):.2f}', end='\\r')"
   ]
  },
  {
   "cell_type": "code",
   "execution_count": 814,
   "metadata": {},
   "outputs": [
    {
     "data": {
      "image/png": "[encoded data removed]",
      "text/plain": [
       "<Figure size 432x288 with 1 Axes>"
      ]
     },
     "metadata": {
      "needs_background": "light"
     },
     "output_type": "display_data"
    }
   ],
   "source": [
    "plt.figure()\n",
    "plt.plot(test_roc, 'r-', label='test roc')\n",
    "plt.plot(train_roc, 'b-', label='train roc')\n",
    "plt.plot(test_acc, 'g-', label='test acc')\n",
    "plt.plot(train_acc, 'k-', label='train acc')\n",
    "#plt.yscale('log')\n",
    "plt.legend()\n",
    "plt.show()"
   ]
  },
  {
   "cell_type": "code",
   "execution_count": 815,
   "metadata": {},
   "outputs": [
    {
     "data": {
      "text/plain": [
       "<sklearn.metrics._plot.confusion_matrix.ConfusionMatrixDisplay at 0x7f215ad74910>"
      ]
     },
     "execution_count": 815,
     "metadata": {},
     "output_type": "execute_result"
    },
    {
     "data": {
      "image/png": "[encoded data removed]",
      "text/plain": [
       "<Figure size 432x288 with 2 Axes>"
      ]
     },
     "metadata": {
      "needs_background": "light"
     },
     "output_type": "display_data"
    }
   ],
   "source": [
    "model = model.eval()\n",
    "yhat = model(A, x)\n",
    "\n",
    "cm = confusion_matrix(y[test_mask].detach().numpy(), yhat[test_mask].detach().numpy() > 0.5)\n",
    "disp = ConfusionMatrixDisplay(confusion_matrix=cm, display_labels=['not-member', 'is-member'])\n",
    "disp.plot()"
   ]
  },
  {
   "cell_type": "code",
   "execution_count": 816,
   "metadata": {},
   "outputs": [
    {
     "data": {
      "text/plain": [
       "<sklearn.metrics._plot.confusion_matrix.ConfusionMatrixDisplay at 0x7f21572b8c40>"
      ]
     },
     "execution_count": 816,
     "metadata": {},
     "output_type": "execute_result"
    },
    {
     "data": {
      "image/png": "[encoded data removed]",
      "text/plain": [
       "<Figure size 432x288 with 2 Axes>"
      ]
     },
     "metadata": {
      "needs_background": "light"
     },
     "output_type": "display_data"
    }
   ],
   "source": [
    "cm = confusion_matrix(y[train_mask].detach().numpy(), yhat[train_mask].detach().numpy() > 0.5)\n",
    "disp = ConfusionMatrixDisplay(confusion_matrix=cm, display_labels=['not-member', 'is-member'])\n",
    "disp.plot()"
   ]
  },
  {
   "cell_type": "code",
   "execution_count": 788,
   "metadata": {},
   "outputs": [
    {
     "data": {
      "text/plain": [
       "<Figure size 432x288 with 0 Axes>"
      ]
     },
     "metadata": {},
     "output_type": "display_data"
    },
    {
     "data": {
      "image/png": "[encoded data removed]",
      "text/plain": [
       "<Figure size 432x288 with 1 Axes>"
      ]
     },
     "metadata": {
      "needs_background": "light"
     },
     "output_type": "display_data"
    }
   ],
   "source": [
    "plt.figure()\n",
    "disp = CalibrationDisplay.from_predictions(y[test_mask].detach().numpy(), yhat[test_mask].detach().numpy(), n_bins=10)\n",
    "plt.show()"
   ]
  },
  {
   "cell_type": "code",
   "execution_count": 789,
   "metadata": {},
   "outputs": [
    {
     "data": {
      "text/plain": [
       "<Figure size 432x288 with 0 Axes>"
      ]
     },
     "metadata": {},
     "output_type": "display_data"
    },
    {
     "data": {
      "image/png": "[encoded data removed]",
      "text/plain": [
       "<Figure size 432x288 with 1 Axes>"
      ]
     },
     "metadata": {
      "needs_background": "light"
     },
     "output_type": "display_data"
    }
   ],
   "source": [
    "plt.figure()\n",
    "disp = CalibrationDisplay.from_predictions(y[train_mask].detach().numpy(), yhat[train_mask].detach().numpy(), n_bins=10)\n",
    "plt.show()"
   ]
  },
  {
   "cell_type": "code",
   "execution_count": 768,
   "metadata": {},
   "outputs": [
    {
     "data": {
      "text/plain": [
       "tensor(0.3774, grad_fn=<MeanBackward0>)"
      ]
     },
     "execution_count": 768,
     "metadata": {},
     "output_type": "execute_result"
    }
   ],
   "source": [
    "yhat.mean()"
   ]
  },
  {
   "cell_type": "code",
   "execution_count": 359,
   "metadata": {},
   "outputs": [
    {
     "data": {
      "text/plain": [
       "tensor(14.4444, grad_fn=<BinaryCrossEntropyBackward0>)"
      ]
     },
     "execution_count": 359,
     "metadata": {},
     "output_type": "execute_result"
    }
   ],
   "source": [
    "crit(yhat[train_mask], y[train_mask])"
   ]
  },
  {
   "cell_type": "code",
   "execution_count": null,
   "metadata": {},
   "outputs": [],
   "source": []
  }
 ],
 "metadata": {
  "interpreter": {
   "hash": "87f37224a040bfa4b463d91878f73b73faf0827d9536a45eeb9052fd15598203"
  },
  "kernelspec": {
   "display_name": "Python 3.9.7 ('nx_env')",
   "language": "python",
   "name": "python3"
  },
  "language_info": {
   "codemirror_mode": {
    "name": "ipython",
    "version": 3
   },
   "file_extension": ".py",
   "mimetype": "text/x-python",
   "name": "python",
   "nbconvert_exporter": "python",
   "pygments_lexer": "ipython3",
   "version": "3.9.7"
  },
  "orig_nbformat": 4
 },
 "nbformat": 4,
 "nbformat_minor": 2
}
