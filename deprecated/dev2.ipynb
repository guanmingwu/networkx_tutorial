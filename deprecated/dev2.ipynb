{
 "cells": [
  {
   "cell_type": "code",
   "execution_count": 8,
   "metadata": {},
   "outputs": [],
   "source": [
    "import pandas as pd \n",
    "import networkx as nx \n",
    "from cdlib import algorithms\n",
    "import numpy as np\n",
    "from matplotlib import pyplot as plt\n",
    "import sknetwork as skn\n",
    "from sknetwork.embedding import Spectral\n",
    "from sklearn.svm import SVC\n",
    "from sklearn.metrics import precision_recall_fscore_support, confusion_matrix, ConfusionMatrixDisplay, roc_auc_score\n",
    "import torch \n",
    "\n",
    "import os"
   ]
  },
  {
   "cell_type": "code",
   "execution_count": 372,
   "metadata": {},
   "outputs": [
    {
     "name": "stdout",
     "output_type": "stream",
     "text": [
      "loading tissue specific PPI graphs...\n"
     ]
    }
   ],
   "source": [
    "print('loading tissue specific PPI graphs...')\n",
    "tissues = {}\n",
    "for net in os.listdir('../data/bio-tissue-networks/'): \n",
    "    tissue = net.split('.')[0]\n",
    "    ppi = pd.read_csv(f'../data/bio-tissue-networks/{tissue}.edgelist', sep='\\t', header=None).rename({0:'source', 1:'target'}, axis=1)\n",
    "    G = nx.from_pandas_edgelist(ppi)\n",
    "    A = nx.adj_matrix(G, nodelist=G.nodes()).todense()\n",
    "    nodelist = list(G.nodes())\n",
    "    temp = True\n",
    "    train_mask = np.random.choice([True, False], p=[0.6, 0.4], size=A.shape[0])\n",
    "    test_mask = ~train_mask\n",
    "    tissues[tissue] = {'adjacency':A, \n",
    "                        'train_mask':train_mask,\n",
    "                        'test_mask':test_mask,\n",
    "                        'node_list':nodelist}"
   ]
  },
  {
   "cell_type": "code",
   "execution_count": 325,
   "metadata": {},
   "outputs": [
    {
     "name": "stdout",
     "output_type": "stream",
     "text": [
      "loading labels...\n"
     ]
    }
   ],
   "source": [
    "print('loading labels...')\n",
    "processes = {} \n",
    "for i,label in enumerate([x for x in os.listdir('../data/bio-tissue-labels/') if x not in ['INFO.txt']]):\n",
    "    proc = 'GO:' + label.split('GO:')[-1].split('.')[0]\n",
    "    tissue = label.split('GO:')[0][:-1]\n",
    "    labels = pd.read_csv(f'../data/bio-tissue-labels/{label}', sep='\\t', header=None, skiprows=1).rename({0:'gene', 1:'is_member'}, axis=1).set_index('gene')\n",
    "    \n",
    "    if proc not in processes: \n",
    "        processes[proc] = {tissue: labels}\n",
    "    else: \n",
    "        processes[proc][tissue] = labels \n",
    "            "
   ]
  },
  {
   "cell_type": "code",
   "execution_count": 279,
   "metadata": {},
   "outputs": [
    {
     "name": "stdout",
     "output_type": "stream",
     "text": [
      "# biological processes: 420\n"
     ]
    }
   ],
   "source": [
    "print('# biological processes:', len(processes))"
   ]
  },
  {
   "cell_type": "code",
   "execution_count": 284,
   "metadata": {},
   "outputs": [
    {
     "name": "stdout",
     "output_type": "stream",
     "text": [
      "avg # tissues with per process 1.1976190476190476\n",
      "median # tissues with per process 1.0\n",
      "max # tissues with per process 1\n",
      "min # tissues with per process 3\n"
     ]
    }
   ],
   "source": [
    "print('avg # tissues with per process', np.mean([len(v['tissue']) for k,v in processes.items()]))\n",
    "print('median # tissues with per process', np.median([len(v['tissue']) for k,v in processes.items()]))\n",
    "print('max # tissues with per process', np.min([len(v['tissue']) for k,v in processes.items()]))\n",
    "print('min # tissues with per process', np.max([len(v['tissue']) for k,v in processes.items()]))"
   ]
  },
  {
   "cell_type": "code",
   "execution_count": 388,
   "metadata": {},
   "outputs": [],
   "source": [
    "class GNN(torch.nn.Module): \n",
    "    def __init__(self, input, channels, output, dropout=0.0): \n",
    "        super(GNN, self).__init__() \n",
    "        self.f1 = torch.nn.Linear(input, channels)\n",
    "        self.f2 = torch.nn.Linear(channels, channels)\n",
    "        self.f3 = torch.nn.Linear(channels, channels)\n",
    "        self.f_out = torch.nn.Sequential(torch.nn.Linear(channels, channels), torch.nn.ReLU(), torch.nn.Linear(channels, output))\n",
    "        self.nonlin = torch.nn.ReLU()\n",
    "        self.do = torch.nn.Dropout(dropout)\n",
    "\n",
    "    def norm_adj(self, A): \n",
    "        '''\n",
    "        normalize by GCN method\n",
    "        '''\n",
    "        Dinv = torch.diag_embed(torch.pow(A.sum(dim=-1),-0.5))\n",
    "        return Dinv @ A @ Dinv\n",
    "\n",
    "    def forward(self, A, x):  \n",
    "\n",
    "        A = self.norm_adj(A)\n",
    "        \n",
    "        h1 = A @ self.f1(x)\n",
    "        h1 = self.nonlin(h1)\n",
    "        h1 = self.do(h1)\n",
    "\n",
    "        h2 = A @ self.f2(h1)\n",
    "        h2 = self.nonlin(h2)\n",
    "        h2 = self.do(h2)\n",
    "\n",
    "        h3 = A @ self.f3(h2)\n",
    "        h3 = self.nonlin(h3)\n",
    "        h3 = self.do(h3)\n",
    "\n",
    "        return torch.sigmoid( self.f_out(h3) ).squeeze()"
   ]
  },
  {
   "cell_type": "code",
   "execution_count": 392,
   "metadata": {},
   "outputs": [],
   "source": [
    "model = GNN(1, 100, len(processes), dropout=0.05)\n",
    "\n",
    "optim = torch.optim.Adam(model.parameters(), lr=1e-3)\n",
    "crit = torch.nn.BCELoss(reduction='none')"
   ]
  },
  {
   "cell_type": "code",
   "execution_count": 393,
   "metadata": {},
   "outputs": [],
   "source": [
    "def get_data(labels, tiss): \n",
    "    '''\n",
    "    '''\n",
    "    A = torch.tensor(tiss['adjacency'], dtype=torch.float) \n",
    "\n",
    "    # NOTE: this is now a weighted network (self edges will be 2 if there was an edge already)\n",
    "    A = A + torch.eye(A.size(0), dtype=torch.float) \n",
    "\n",
    "    x = torch.ones((A.size(0),1), dtype=torch.float)\n",
    "    y = torch.tensor(labels.loc[tiss['node_list'], :].values, dtype=torch.float)\n",
    "    train_mask = torch.tensor(tiss['train_mask'])\n",
    "    test_mask = torch.tensor(tiss['test_mask'])\n",
    "\n",
    "    weights = torch.ones_like(y[train_mask])\n",
    "    n_neg = (y[train_mask] == 0).sum()\n",
    "    n_pos = (y[train_mask] == 1).sum()\n",
    "    weights[y[train_mask] == 1] = n_neg / n_pos\n",
    "\n",
    "    return A,x,y,train_mask,test_mask,weights"
   ]
  },
  {
   "cell_type": "code",
   "execution_count": 396,
   "metadata": {},
   "outputs": [
    {
     "name": "stdout",
     "output_type": "stream",
     "text": [
      "EPOCH: 0 || train roc: 0.52  || test roc: 0.52\n",
      "EPOCH: 1 || train roc: 0.57  || test roc: 0.56\n",
      "EPOCH: 2 || train roc: 0.58  || test roc: 0.56\n",
      "EPOCH: 3 || train roc: 0.58  || test roc: 0.56\n",
      "EPOCH: 4 || train roc: 0.59  || test roc: 0.57\n",
      "EPOCH: 5 || train roc: 0.59  || test roc: 0.57\n",
      "EPOCH: 6 || train roc: 0.59  || test roc: 0.57\n",
      "EPOCH: 7 || train roc: 0.59  || test roc: 0.57\n",
      "EPOCH: 8 || train roc: 0.59  || test roc: 0.57\n",
      "EPOCH: 9 || train roc: 0.60  || test roc: 0.57\n",
      "EPOCH: 10 || train roc: 0.60  || test roc: 0.57\n",
      "EPOCH: 11 || train roc: 0.60  || test roc: 0.57\n",
      "EPOCH: 12 || train roc: 0.60  || test roc: 0.57\n",
      "EPOCH: 13 || train roc: 0.61  || test roc: 0.57\n",
      "EPOCH: 14 || train roc: 0.61  || test roc: 0.57\n",
      "EPOCH: 15 || train roc: 0.62  || test roc: 0.58\n",
      "EPOCH: 16 || train roc: 0.63  || test roc: 0.58\n",
      "EPOCH: 17 || train roc: 0.63  || test roc: 0.58\n",
      "EPOCH: 18 || train roc: 0.64  || test roc: 0.59\n",
      "EPOCH: 19 || train roc: 0.64  || test roc: 0.59\n",
      "EPOCH: 20 || train roc: 0.65  || test roc: 0.59\n",
      "EPOCH: 21 || train roc: 0.65  || test roc: 0.59\n",
      "EPOCH: 22 || train roc: 0.65  || test roc: 0.59\n",
      "EPOCH: 23 || train roc: 0.65  || test roc: 0.59\n",
      "EPOCH: 24 || train roc: 0.65  || test roc: 0.60\n",
      "EPOCH: 25 || train roc: 0.66  || test roc: 0.59\n",
      "EPOCH: 26 || train roc: 0.66  || test roc: 0.59\n",
      "EPOCH: 27 || train roc: 0.66  || test roc: 0.59\n",
      "EPOCH: 28 || train roc: 0.66  || test roc: 0.60\n",
      "EPOCH: 29 || train roc: 0.66  || test roc: 0.59\n",
      "EPOCH: 30 || train roc: 0.67  || test roc: 0.59\n",
      "EPOCH: 31 || train roc: 0.67  || test roc: 0.59\n",
      "EPOCH: 32 || train roc: 0.67  || test roc: 0.59\n",
      "EPOCH: 33 || train roc: 0.67  || test roc: 0.59\n",
      "EPOCH: 34 || train roc: 0.67  || test roc: 0.59\n",
      "EPOCH: 35 || train roc: 0.67  || test roc: 0.59\n",
      "EPOCH: 36 || train roc: 0.68  || test roc: 0.59\n",
      "EPOCH: 37 || train roc: 0.68  || test roc: 0.59\n",
      "EPOCH: 38 || train roc: 0.68  || test roc: 0.59\n",
      "EPOCH: 39 || train roc: 0.68  || test roc: 0.59\n",
      "EPOCH: 40 || train roc: 0.68  || test roc: 0.59\n",
      "EPOCH: 41 || train roc: 0.68  || test roc: 0.59\n",
      "EPOCH: 42 || train roc: 0.69  || test roc: 0.59\n",
      "EPOCH: 43 || train roc: 0.69  || test roc: 0.59\n",
      "EPOCH: 44 || train roc: 0.69  || test roc: 0.59\n",
      "EPOCH: 45 || train roc: 0.69  || test roc: 0.59\n",
      "EPOCH: 46 || train roc: 0.69  || test roc: 0.59\n",
      "EPOCH: 47 || train roc: 0.69  || test roc: 0.59\n",
      "EPOCH: 48 || train roc: 0.69  || test roc: 0.59\n",
      "EPOCH: 49 || train roc: 0.70  || test roc: 0.59\n",
      "EPOCH: 50 || train roc: 0.70  || test roc: 0.59\n",
      "EPOCH: 51 || train roc: 0.70  || test roc: 0.59\n",
      "EPOCH: 52 || train roc: 0.70  || test roc: 0.59\n",
      "EPOCH: 53 || train roc: 0.70  || test roc: 0.59\n",
      "EPOCH: 54 || train roc: 0.70  || test roc: 0.59\n",
      "EPOCH: 55 || train roc: 0.70  || test roc: 0.59\n",
      "EPOCH: 56 || train roc: 0.70  || test roc: 0.59\n",
      "EPOCH: 57 || train roc: 0.70  || test roc: 0.59\n",
      "EPOCH: 58 || train roc: 0.70  || test roc: 0.59\n",
      "EPOCH: 59 || train roc: 0.71  || test roc: 0.59\n",
      "EPOCH: 60 || train roc: 0.71  || test roc: 0.59\n",
      "EPOCH: 61 || train roc: 0.71  || test roc: 0.59\n",
      "EPOCH: 62 || train roc: 0.71  || test roc: 0.59\n",
      "EPOCH: 63 || train roc: 0.71  || test roc: 0.59\n",
      "EPOCH: 64 || train roc: 0.71  || test roc: 0.59\n",
      "EPOCH: 65 || train roc: 0.71  || test roc: 0.59\n",
      "EPOCH: 66 || train roc: 0.71  || test roc: 0.59\n",
      "EPOCH: 67 || train roc: 0.71  || test roc: 0.58\n",
      "EPOCH: 68 || train roc: 0.71  || test roc: 0.59\n",
      "EPOCH: 69 || train roc: 0.71  || test roc: 0.59\n",
      "EPOCH: 70 || train roc: 0.71  || test roc: 0.59\n",
      "EPOCH: 71 || train roc: 0.72  || test roc: 0.59\n",
      "EPOCH: 72 || train roc: 0.72  || test roc: 0.59\n",
      "EPOCH: 73 || train roc: 0.72  || test roc: 0.59\n",
      "EPOCH: 74 || train roc: 0.72  || test roc: 0.59\n",
      "EPOCH: 75 || train roc: 0.72  || test roc: 0.59\n",
      "EPOCH: 76 || train roc: 0.72  || test roc: 0.59\n",
      "EPOCH: 77 || train roc: 0.72  || test roc: 0.59\n",
      "EPOCH: 78 || train roc: 0.72  || test roc: 0.59\n",
      "EPOCH: 79 || train roc: 0.72  || test roc: 0.59\n",
      "EPOCH: 80 || train roc: 0.72  || test roc: 0.59\n",
      "EPOCH: 81 || train roc: 0.72  || test roc: 0.59\n",
      "EPOCH: 82 || train roc: 0.72  || test roc: 0.59\n",
      "EPOCH: 83 || train roc: 0.73  || test roc: 0.59\n",
      "EPOCH: 84 || train roc: 0.72  || test roc: 0.59\n",
      "EPOCH: 85 || train roc: 0.72  || test roc: 0.59\n",
      "EPOCH: 86 || train roc: 0.73  || test roc: 0.59\n",
      "EPOCH: 87 || train roc: 0.73  || test roc: 0.59\n",
      "EPOCH: 88 || train roc: 0.73  || test roc: 0.59\n",
      "EPOCH: 89 || train roc: 0.72  || test roc: 0.59\n",
      "EPOCH: 90 || train roc: 0.73  || test roc: 0.59\n",
      "EPOCH: 91 || train roc: 0.73  || test roc: 0.59\n",
      "EPOCH: 92 || train roc: 0.73  || test roc: 0.59\n",
      "EPOCH: 93 || train roc: 0.73  || test roc: 0.59\n",
      "EPOCH: 94 || train roc: 0.73  || test roc: 0.59\n",
      "EPOCH: 95 || train roc: 0.73  || test roc: 0.59\n",
      "EPOCH: 96 || train roc: 0.73  || test roc: 0.59\n",
      "EPOCH: 97 || train roc: 0.73  || test roc: 0.58\n",
      "EPOCH: 98 || train roc: 0.73  || test roc: 0.59\n",
      "EPOCH: 99 || train roc: 0.73  || test roc: 0.59\n",
      "EPOCH: 100 || train roc: 0.73  || test roc: 0.59\n",
      "EPOCH: 101 || train roc: 0.73  || test roc: 0.59\n",
      "EPOCH: 102 || train roc: 0.73  || test roc: 0.59\n",
      "EPOCH: 103 || train roc: 0.73  || test roc: 0.59\n",
      "EPOCH: 104 || train roc: 0.73  || test roc: 0.59\n",
      "EPOCH: 105 || train roc: 0.74  || test roc: 0.59\n",
      "EPOCH: 106 || train roc: 0.73  || test roc: 0.59\n",
      "EPOCH: 107 || train roc: 0.73  || test roc: 0.59\n",
      "EPOCH: 108 || train roc: 0.73  || test roc: 0.59\n",
      "EPOCH: 109 || train roc: 0.73  || test roc: 0.59\n",
      "EPOCH: 110 || train roc: 0.73  || test roc: 0.59\n",
      "EPOCH: 111 || train roc: 0.74  || test roc: 0.59\n",
      "EPOCH: 112 || train roc: 0.74  || test roc: 0.59\n",
      "EPOCH: 113 || train roc: 0.74  || test roc: 0.59\n",
      "EPOCH: 114 || train roc: 0.74  || test roc: 0.59\n",
      "EPOCH: 115 || train roc: 0.74  || test roc: 0.59\n",
      "EPOCH: 116 || train roc: 0.74  || test roc: 0.59\n",
      "EPOCH: 117 || train roc: 0.74  || test roc: 0.59\n",
      "EPOCH: 118 || train roc: 0.74  || test roc: 0.59\n",
      "EPOCH: 119 || train roc: 0.74  || test roc: 0.59\n",
      "EPOCH: 120 || train roc: 0.74  || test roc: 0.59\n",
      "EPOCH: 121 || train roc: 0.74  || test roc: 0.59\n",
      "EPOCH: 122 || train roc: 0.74  || test roc: 0.59\n",
      "EPOCH: 123 || train roc: 0.74  || test roc: 0.59\n",
      "EPOCH: 124 || train roc: 0.74  || test roc: 0.59\n",
      "EPOCH: 125 || train roc: 0.74  || test roc: 0.58\n",
      "EPOCH: 126 || train roc: 0.74  || test roc: 0.59\n",
      "EPOCH: 127 || train roc: 0.74  || test roc: 0.58\n",
      "EPOCH: 128 || train roc: 0.74  || test roc: 0.59\n",
      "EPOCH: 129 || train roc: 0.74  || test roc: 0.59\n",
      "EPOCH: 130 || train roc: 0.75  || test roc: 0.59\n",
      "EPOCH: 131 || train roc: 0.74  || test roc: 0.59\n",
      "EPOCH: 132 || train roc: 0.75  || test roc: 0.59\n",
      "EPOCH: 133 || train roc: 0.74  || test roc: 0.59\n",
      "EPOCH: 134 || train roc: 0.75  || test roc: 0.59\n",
      "EPOCH: 135 || train roc: 0.75  || test roc: 0.59\n",
      "EPOCH: 136 || train roc: 0.74  || test roc: 0.59\n",
      "EPOCH: 137 || train roc: 0.75  || test roc: 0.59\n",
      "EPOCH: 138 || train roc: 0.75  || test roc: 0.59\n",
      "EPOCH: 139 || train roc: 0.75  || test roc: 0.59\n",
      "EPOCH: 140 || train roc: 0.75  || test roc: 0.58\n",
      "EPOCH: 141 || train roc: 0.75  || test roc: 0.59\n",
      "EPOCH: 142 || train roc: 0.75  || test roc: 0.59\n",
      "EPOCH: 143 || train roc: 0.75  || test roc: 0.59\n",
      "EPOCH: 144 || train roc: 0.75  || test roc: 0.59\n",
      "EPOCH: 145 || train roc: 0.75  || test roc: 0.59\n",
      "EPOCH: 146 || train roc: 0.75  || test roc: 0.59\n",
      "EPOCH: 147 || train roc: 0.75  || test roc: 0.59\n",
      "EPOCH: 148 || train roc: 0.75  || test roc: 0.59\n",
      "EPOCH: 149 || train roc: 0.75  || test roc: 0.59\n",
      "EPOCH: 150 || train roc: 0.75  || test roc: 0.59\n",
      "EPOCH: 151 || train roc: 0.75  || test roc: 0.59\n",
      "EPOCH: 152 || train roc: 0.75  || test roc: 0.59\n",
      "EPOCH: 153 || train roc: 0.75  || test roc: 0.59\n",
      "EPOCH: 154 || train roc: 0.75  || test roc: 0.59\n",
      "EPOCH: 155 || train roc: 0.75  || test roc: 0.59\n",
      "EPOCH: 156 || train roc: 0.75  || test roc: 0.59\n",
      "EPOCH: 157 || train roc: 0.75  || test roc: 0.59\n",
      "EPOCH: 158 || train roc: 0.75  || test roc: 0.59\n",
      "EPOCH: 159 || train roc: 0.75  || test roc: 0.59\n",
      "EPOCH: 160 || train roc: 0.75  || test roc: 0.59\n",
      "EPOCH: 161 || train roc: 0.75  || test roc: 0.59\n",
      "EPOCH: 162 || train roc: 0.76  || test roc: 0.59\n",
      "EPOCH: 163 || train roc: 0.75  || test roc: 0.59\n",
      "EPOCH: 164 || train roc: 0.76  || test roc: 0.59\n",
      "EPOCH: 165 || train roc: 0.75  || test roc: 0.59\n",
      "EPOCH: 166 || train roc: 0.75  || test roc: 0.59\n",
      "EPOCH: 167 || train roc: 0.75  || test roc: 0.59\n",
      "EPOCH: 168 || train roc: 0.76  || test roc: 0.59\n",
      "EPOCH: 169 || train roc: 0.75  || test roc: 0.58\n",
      "EPOCH: 170 || train roc: 0.76  || test roc: 0.59\n",
      "EPOCH: 171 || train roc: 0.76  || test roc: 0.59\n",
      "EPOCH: 172 || train roc: 0.76  || test roc: 0.59\n",
      "EPOCH: 173 || train roc: 0.76  || test roc: 0.59\n",
      "EPOCH: 174 || train roc: 0.76  || test roc: 0.58\n",
      "EPOCH: 175 || train roc: 0.76  || test roc: 0.59\n",
      "EPOCH: 176 || train roc: 0.76  || test roc: 0.59\n",
      "EPOCH: 177 || train roc: 0.76  || test roc: 0.58\n",
      "EPOCH: 178 || train roc: 0.76  || test roc: 0.59\n",
      "EPOCH: 179 || train roc: 0.76  || test roc: 0.59\n",
      "EPOCH: 180 || train roc: 0.76  || test roc: 0.59\n",
      "EPOCH: 181 || train roc: 0.76  || test roc: 0.59\n",
      "EPOCH: 182 || train roc: 0.76  || test roc: 0.59\n",
      "EPOCH: 183 || train roc: 0.76  || test roc: 0.59\n",
      "EPOCH: 184 || train roc: 0.76  || test roc: 0.59\n",
      "EPOCH: 185 || train roc: 0.76  || test roc: 0.59\n",
      "EPOCH: 186 || train roc: 0.76  || test roc: 0.59\n",
      "EPOCH: 187 || train roc: 0.76  || test roc: 0.59\n",
      "EPOCH: 188 || train roc: 0.76  || test roc: 0.59\n",
      "EPOCH: 189 || train roc: 0.76  || test roc: 0.59\n",
      "EPOCH: 190 || train roc: 0.76  || test roc: 0.58\n",
      "EPOCH: 191 || train roc: 0.76  || test roc: 0.59\n",
      "EPOCH: 192 || train roc: 0.76  || test roc: 0.59\n",
      "EPOCH: 193 || train roc: 0.76  || test roc: 0.59\n",
      "EPOCH: 194 || train roc: 0.76  || test roc: 0.59\n",
      "EPOCH: 195 || train roc: 0.76  || test roc: 0.59\n",
      "EPOCH: 196 || train roc: 0.76  || test roc: 0.59\n",
      "EPOCH: 197 || train roc: 0.76  || test roc: 0.59\n",
      "EPOCH: 198 || train roc: 0.76  || test roc: 0.59\n",
      "EPOCH: 199 || train roc: 0.76  || test roc: 0.59\n",
      "EPOCH: 200 || train roc: 0.76  || test roc: 0.59\n",
      "EPOCH: 201 || train roc: 0.76  || test roc: 0.59\n",
      "EPOCH: 202 || train roc: 0.76  || test roc: 0.59\n",
      "EPOCH: 203 || train roc: 0.76  || test roc: 0.58\n",
      "EPOCH: 204 || train roc: 0.76  || test roc: 0.58\n",
      "EPOCH: 205 || train roc: 0.76  || test roc: 0.58\n",
      "EPOCH: 206 || train roc: 0.76  || test roc: 0.59\n",
      "EPOCH: 207 || train roc: 0.76  || test roc: 0.59\n",
      "EPOCH: 208 || train roc: 0.76  || test roc: 0.58\n",
      "EPOCH: 209 || train roc: 0.76  || test roc: 0.59\n",
      "EPOCH: 210 || train roc: 0.76  || test roc: 0.58\n",
      "EPOCH: 211 || train roc: 0.76  || test roc: 0.59\n",
      "EPOCH: 212 || train roc: 0.75  || test roc: 0.58\n",
      "EPOCH: 213 || train roc: 0.76  || test roc: 0.59\n",
      "EPOCH: 214 || train roc: 0.76  || test roc: 0.59\n",
      "EPOCH: 215 || train roc: 0.75  || test roc: 0.58\n",
      "EPOCH: 216 || train roc: 0.75  || test roc: 0.59\n",
      "EPOCH: 217 || train roc: 0.75  || test roc: 0.58\n",
      "EPOCH: 218 || train roc: 0.75  || test roc: 0.58\n",
      "EPOCH: 219 || train roc: 0.75  || test roc: 0.58\n",
      "EPOCH: 220 || train roc: 0.75  || test roc: 0.58\n",
      "EPOCH: 221 || train roc: 0.74  || test roc: 0.59\n",
      "EPOCH: 222 || train roc: 0.75  || test roc: 0.58\n",
      "EPOCH: 223 || train roc: 0.75  || test roc: 0.59\n",
      "EPOCH: 224 || train roc: 0.75  || test roc: 0.58\n",
      "EPOCH: 225 || train roc: 0.75  || test roc: 0.58\n",
      "EPOCH: 226 || train roc: 0.75  || test roc: 0.59\n",
      "EPOCH: 227 || train roc: 0.76  || test roc: 0.58\n",
      "EPOCH: 228 || train roc: 0.76  || test roc: 0.58\n",
      "EPOCH: 229 || train roc: 0.76  || test roc: 0.59\n",
      "EPOCH: 230 || train roc: 0.76  || test roc: 0.58\n",
      "EPOCH: 231 || train roc: 0.76  || test roc: 0.58\n",
      "EPOCH: 232 || train roc: 0.76  || test roc: 0.58\n",
      "EPOCH: 233 || train roc: 0.76  || test roc: 0.58\n",
      "EPOCH: 234 || train roc: 0.76  || test roc: 0.58\n",
      "EPOCH: 235 || train roc: 0.76  || test roc: 0.58\n",
      "EPOCH: 236 || train roc: 0.76  || test roc: 0.58\n",
      "EPOCH: 237 || train roc: 0.76  || test roc: 0.58\n",
      "EPOCH: 238 || train roc: 0.76  || test roc: 0.59\n",
      "EPOCH: 239 || train roc: 0.76  || test roc: 0.58\n",
      "EPOCH: 240 || train roc: 0.76  || test roc: 0.58\n",
      "EPOCH: 241 || train roc: 0.76  || test roc: 0.58\n",
      "EPOCH: 242 || train roc: 0.76  || test roc: 0.59\n",
      "EPOCH: 243 || train roc: 0.76  || test roc: 0.59\n",
      "EPOCH: 244 || train roc: 0.76  || test roc: 0.58\n",
      "EPOCH: 245 || train roc: 0.76  || test roc: 0.58\n",
      "EPOCH: 246 || train roc: 0.76  || test roc: 0.58\n",
      "EPOCH: 247 || train roc: 0.76  || test roc: 0.58\n",
      "EPOCH: 248 || train roc: 0.76  || test roc: 0.58\n",
      "EPOCH: 249 || train roc: 0.76  || test roc: 0.58\n",
      "EPOCH: 250 || train roc: 0.76  || test roc: 0.58\n",
      "EPOCH: 251 || train roc: 0.76  || test roc: 0.58\n",
      "EPOCH: 252 || train roc: 0.76  || test roc: 0.58\n",
      "EPOCH: 253 || train roc: 0.76  || test roc: 0.58\n",
      "EPOCH: 254 || train roc: 0.76  || test roc: 0.58\n",
      "EPOCH: 255 || train roc: 0.76  || test roc: 0.59\n",
      "EPOCH: 256 || train roc: 0.76  || test roc: 0.58\n",
      "EPOCH: 257 || train roc: 0.76  || test roc: 0.59\n",
      "EPOCH: 258 || train roc: 0.76  || test roc: 0.58\n",
      "EPOCH: 259 || train roc: 0.76  || test roc: 0.59\n",
      "EPOCH: 260 || train roc: 0.77  || test roc: 0.58\n",
      "EPOCH: 261 || train roc: 0.77  || test roc: 0.58\n",
      "EPOCH: 262 || train roc: 0.77  || test roc: 0.58\n",
      "EPOCH: 263 || train roc: 0.77  || test roc: 0.59\n",
      "EPOCH: 264 || train roc: 0.77  || test roc: 0.58\n",
      "EPOCH: 265 || train roc: 0.76  || test roc: 0.58\n",
      "EPOCH: 266 || train roc: 0.76  || test roc: 0.58\n",
      "EPOCH: 267 || train roc: 0.77  || test roc: 0.58\n",
      "EPOCH: 268 || train roc: 0.76  || test roc: 0.58\n",
      "EPOCH: 269 || train roc: 0.76  || test roc: 0.58\n",
      "EPOCH: 270 || train roc: 0.76  || test roc: 0.58\n",
      "EPOCH: 271 || train roc: 0.76  || test roc: 0.58\n",
      "EPOCH: 272 || train roc: 0.77  || test roc: 0.58\n",
      "EPOCH: 273 || train roc: 0.76  || test roc: 0.59\n",
      "EPOCH: 274 || train roc: 0.77  || test roc: 0.58\n",
      "EPOCH: 275 || train roc: 0.77  || test roc: 0.58\n",
      "EPOCH: 276 || train roc: 0.76  || test roc: 0.58\n",
      "EPOCH: 277 || train roc: 0.76  || test roc: 0.58\n",
      "EPOCH: 278 || train roc: 0.76  || test roc: 0.58\n",
      "EPOCH: 279 || train roc: 0.76  || test roc: 0.58\n",
      "EPOCH: 280 || train roc: 0.77  || test roc: 0.58\n",
      "EPOCH: 281 || train roc: 0.76  || test roc: 0.58\n",
      "EPOCH: 282 || train roc: 0.76  || test roc: 0.58\n",
      "EPOCH: 283 || train roc: 0.77  || test roc: 0.58\n",
      "EPOCH: 284 || train roc: 0.77  || test roc: 0.58\n",
      "EPOCH: 285 || train roc: 0.77  || test roc: 0.58\n",
      "EPOCH: 286 || train roc: 0.77  || test roc: 0.58\n",
      "EPOCH: 287 || train roc: 0.77  || test roc: 0.58\n",
      "EPOCH: 288 || train roc: 0.77  || test roc: 0.58\n",
      "EPOCH: 289 || train roc: 0.77  || test roc: 0.58\n",
      "EPOCH: 290 || train roc: 0.77  || test roc: 0.58\n",
      "EPOCH: 291 || train roc: 0.77  || test roc: 0.58\n",
      "EPOCH: 292 || train roc: 0.77  || test roc: 0.58\n",
      "EPOCH: 293 || train roc: 0.77  || test roc: 0.58\n",
      "EPOCH: 294 || train roc: 0.77  || test roc: 0.58\n",
      "EPOCH: 295 || train roc: 0.77  || test roc: 0.58\n",
      "EPOCH: 296 || train roc: 0.77  || test roc: 0.58\n",
      "EPOCH: 297 || train roc: 0.77  || test roc: 0.59\n",
      "EPOCH: 298 || train roc: 0.77  || test roc: 0.58\n",
      "EPOCH: 299 || train roc: 0.77  || test roc: 0.58\n",
      "EPOCH: 300 || train roc: 0.77  || test roc: 0.58\n",
      "EPOCH: 301 || train roc: 0.77  || test roc: 0.58\n",
      "EPOCH: 302 || train roc: 0.77  || test roc: 0.58\n",
      "EPOCH: 303 || train roc: 0.77  || test roc: 0.58\n",
      "EPOCH: 304 || train roc: 0.77  || test roc: 0.58\n",
      "EPOCH: 305 || train roc: 0.77  || test roc: 0.58\n",
      "EPOCH: 306 || train roc: 0.77  || test roc: 0.58\n",
      "EPOCH: 307 || train roc: 0.77  || test roc: 0.58\n",
      "EPOCH: 308 || train roc: 0.77  || test roc: 0.58\n",
      "EPOCH: 309 || train roc: 0.77  || test roc: 0.58\n",
      "EPOCH: 310 || train roc: 0.77  || test roc: 0.58\n",
      "EPOCH: 311 || train roc: 0.77  || test roc: 0.58\n",
      "EPOCH: 312 || train roc: 0.77  || test roc: 0.58\n",
      "EPOCH: 313 || train roc: 0.77  || test roc: 0.58\n",
      "EPOCH: 314 || train roc: 0.77  || test roc: 0.58\n",
      "EPOCH: 315 || train roc: 0.77  || test roc: 0.58\n",
      "EPOCH: 316 || train roc: 0.77  || test roc: 0.58\n",
      "EPOCH: 317 || train roc: 0.77  || test roc: 0.58\n",
      "EPOCH: 318 || train roc: 0.77  || test roc: 0.58\n",
      "EPOCH: 319 || train roc: 0.77  || test roc: 0.58\n",
      "EPOCH: 320 || train roc: 0.77  || test roc: 0.58\n",
      "EPOCH: 321 || train roc: 0.77  || test roc: 0.58\n",
      "EPOCH: 322 || train roc: 0.77  || test roc: 0.58\n",
      "EPOCH: 323 || train roc: 0.77  || test roc: 0.58\n",
      "EPOCH: 324 || train roc: 0.77  || test roc: 0.58\n",
      "EPOCH: 325 || train roc: 0.77  || test roc: 0.58\n",
      "EPOCH: 326 || train roc: 0.76  || test roc: 0.58\n",
      "EPOCH: 327 || train roc: 0.77  || test roc: 0.58\n",
      "EPOCH: 328 || train roc: 0.77  || test roc: 0.58\n",
      "EPOCH: 329 || train roc: 0.77  || test roc: 0.58\n",
      "EPOCH: 330 || train roc: 0.77  || test roc: 0.58\n",
      "EPOCH: 331 || train roc: 0.77  || test roc: 0.58\n",
      "EPOCH: 332 || train roc: 0.77  || test roc: 0.58\n",
      "EPOCH: 333 || train roc: 0.77  || test roc: 0.58\n",
      "EPOCH: 334 || train roc: 0.77  || test roc: 0.59\n",
      "EPOCH: 335 || train roc: 0.77  || test roc: 0.58\n",
      "EPOCH: 336 || train roc: 0.77  || test roc: 0.58\n",
      "EPOCH: 337 || train roc: 0.77  || test roc: 0.58\n",
      "EPOCH: 338 || train roc: 0.77  || test roc: 0.58\n",
      "EPOCH: 339 || train roc: 0.76  || test roc: 0.58\n",
      "EPOCH: 340 || train roc: 0.77  || test roc: 0.58\n",
      "EPOCH: 341 || train roc: 0.77  || test roc: 0.58\n",
      "EPOCH: 342 || train roc: 0.77  || test roc: 0.58\n",
      "EPOCH: 343 || train roc: 0.77  || test roc: 0.58\n",
      "EPOCH: 344 || train roc: 0.76  || test roc: 0.59\n",
      "EPOCH: 345 || train roc: 0.77  || test roc: 0.58\n",
      "EPOCH: 346 || train roc: 0.77  || test roc: 0.58\n",
      "EPOCH: 347 || train roc: 0.77  || test roc: 0.58\n",
      "EPOCH: 348 || train roc: 0.77  || test roc: 0.58\n",
      "EPOCH: 349 || train roc: 0.76  || test roc: 0.58\n",
      "EPOCH: 350 || train roc: 0.77  || test roc: 0.58\n",
      "EPOCH: 351 || train roc: 0.77  || test roc: 0.58\n",
      "EPOCH: 352 || train roc: 0.77  || test roc: 0.58\n",
      "EPOCH: 353 || train roc: 0.77  || test roc: 0.58\n",
      "EPOCH: 354 || train roc: 0.77  || test roc: 0.58\n",
      "EPOCH: 355 || train roc: 0.77  || test roc: 0.58\n",
      "EPOCH: 356 || train roc: 0.77  || test roc: 0.58\n",
      "EPOCH: 357 || train roc: 0.77  || test roc: 0.58\n",
      "EPOCH: 358 || train roc: 0.77  || test roc: 0.58\n",
      "EPOCH: 359 || train roc: 0.77  || test roc: 0.58\n",
      "EPOCH: 360 || train roc: 0.77  || test roc: 0.58\n",
      "EPOCH: 361 || train roc: 0.77  || test roc: 0.58\n",
      "EPOCH: 362 || train roc: 0.77  || test roc: 0.58\n",
      "EPOCH: 363 || train roc: 0.77  || test roc: 0.58\n",
      "EPOCH: 364 || train roc: 0.77  || test roc: 0.58\n",
      "EPOCH: 365 || train roc: 0.77  || test roc: 0.58\n",
      "EPOCH: 366 || train roc: 0.77  || test roc: 0.58\n",
      "EPOCH: 367 || train roc: 0.77  || test roc: 0.58\n",
      "EPOCH: 368 || train roc: 0.77  || test roc: 0.58\n",
      "EPOCH: 369 || train roc: 0.77  || test roc: 0.58\n",
      "EPOCH: 370 || train roc: 0.77  || test roc: 0.58\n",
      "EPOCH: 371 || train roc: 0.77  || test roc: 0.58\n",
      "EPOCH: 372 || train roc: 0.77  || test roc: 0.58\n",
      "EPOCH: 373 || train roc: 0.77  || test roc: 0.58\n",
      "EPOCH: 374 || train roc: 0.77  || test roc: 0.58\n",
      "EPOCH: 375 || train roc: 0.77  || test roc: 0.58\n",
      "EPOCH: 376 || train roc: 0.77  || test roc: 0.58\n",
      "EPOCH: 377 || train roc: 0.77  || test roc: 0.58\n",
      "EPOCH: 378 || train roc: 0.77  || test roc: 0.58\n",
      "EPOCH: 379 || train roc: 0.77  || test roc: 0.58\n",
      "EPOCH: 380 || train roc: 0.77  || test roc: 0.58\n",
      "EPOCH: 381 || train roc: 0.77  || test roc: 0.58\n",
      "EPOCH: 382 || train roc: 0.77  || test roc: 0.58\n",
      "EPOCH: 383 || train roc: 0.77  || test roc: 0.58\n",
      "EPOCH: 384 || train roc: 0.77  || test roc: 0.58\n",
      "EPOCH: 385 || train roc: 0.77  || test roc: 0.58\n",
      "EPOCH: 386 || train roc: 0.77  || test roc: 0.57\n",
      "EPOCH: 387 || train roc: 0.77  || test roc: 0.58\n",
      "EPOCH: 388 || train roc: 0.77  || test roc: 0.58\n",
      "EPOCH: 389 || train roc: 0.77  || test roc: 0.58\n",
      "EPOCH: 390 || train roc: 0.77  || test roc: 0.58\n",
      "EPOCH: 391 || train roc: 0.77  || test roc: 0.58\n",
      "EPOCH: 392 || train roc: 0.77  || test roc: 0.58\n",
      "EPOCH: 393 || train roc: 0.77  || test roc: 0.58\n",
      "EPOCH: 394 || train roc: 0.77  || test roc: 0.58\n",
      "EPOCH: 395 || train roc: 0.77  || test roc: 0.58\n",
      "EPOCH: 396 || train roc: 0.77  || test roc: 0.58\n",
      "EPOCH: 397 || train roc: 0.77  || test roc: 0.58\n",
      "EPOCH: 398 || train roc: 0.77  || test roc: 0.58\n",
      "EPOCH: 399 || train roc: 0.77  || test roc: 0.58\n",
      "EPOCH: 400 || train roc: 0.77  || test roc: 0.58\n",
      "EPOCH: 401 || train roc: 0.77  || test roc: 0.58\n",
      "EPOCH: 402 || train roc: 0.77  || test roc: 0.58\n",
      "EPOCH: 403 || train roc: 0.78  || test roc: 0.58\n",
      "EPOCH: 404 || train roc: 0.78  || test roc: 0.58\n",
      "EPOCH: 405 || train roc: 0.77  || test roc: 0.58\n",
      "EPOCH: 406 || train roc: 0.77  || test roc: 0.58\n",
      "EPOCH: 407 || train roc: 0.77  || test roc: 0.58\n",
      "EPOCH: 408 || train roc: 0.77  || test roc: 0.58\n",
      "EPOCH: 409 || train roc: 0.77  || test roc: 0.58\n",
      "EPOCH: 410 || train roc: 0.77  || test roc: 0.58\n",
      "EPOCH: 411 || train roc: 0.77  || test roc: 0.58\n",
      "EPOCH: 412 || train roc: 0.77  || test roc: 0.58\n",
      "EPOCH: 413 || train roc: 0.77  || test roc: 0.58\n",
      "EPOCH: 414 || train roc: 0.77  || test roc: 0.58\n",
      "EPOCH: 415 || train roc: 0.77  || test roc: 0.58\n",
      "EPOCH: 416 || train roc: 0.77  || test roc: 0.58\n",
      "EPOCH: 417 || train roc: 0.78  || test roc: 0.58\n",
      "EPOCH: 418 || train roc: 0.77  || test roc: 0.58\n",
      "EPOCH: 419 || train roc: 0.77  || test roc: 0.58\n",
      "EPOCH: 420 || train roc: 0.77  || test roc: 0.58\n",
      "EPOCH: 421 || train roc: 0.77  || test roc: 0.58\n",
      "EPOCH: 422 || train roc: 0.77  || test roc: 0.58\n",
      "EPOCH: 423 || train roc: 0.77  || test roc: 0.58\n",
      "EPOCH: 424 || train roc: 0.77  || test roc: 0.58\n",
      "EPOCH: 425 || train roc: 0.78  || test roc: 0.58\n",
      "EPOCH: 426 || train roc: 0.77  || test roc: 0.58\n",
      "EPOCH: 427 || train roc: 0.77  || test roc: 0.58\n",
      "EPOCH: 428 || train roc: 0.77  || test roc: 0.58\n",
      "EPOCH: 429 || train roc: 0.77  || test roc: 0.58\n",
      "EPOCH: 430 || train roc: 0.78  || test roc: 0.58\n",
      "EPOCH: 431 || train roc: 0.77  || test roc: 0.58\n",
      "EPOCH: 432 || train roc: 0.77  || test roc: 0.58\n",
      "EPOCH: 433 || train roc: 0.77  || test roc: 0.58\n",
      "EPOCH: 434 || train roc: 0.77  || test roc: 0.58\n",
      "EPOCH: 435 || train roc: 0.77  || test roc: 0.58\n",
      "EPOCH: 436 || train roc: 0.77  || test roc: 0.58\n",
      "EPOCH: 437 || train roc: 0.78  || test roc: 0.58\n",
      "EPOCH: 438 || train roc: 0.78  || test roc: 0.58\n",
      "EPOCH: 439 || train roc: 0.77  || test roc: 0.58\n",
      "EPOCH: 440 || train roc: 0.78  || test roc: 0.58\n",
      "EPOCH: 441 || train roc: 0.77  || test roc: 0.58\n",
      "EPOCH: 442 || train roc: 0.77  || test roc: 0.58\n",
      "EPOCH: 443 || train roc: 0.78  || test roc: 0.58\n",
      "EPOCH: 444 || train roc: 0.78  || test roc: 0.58\n",
      "EPOCH: 445 || train roc: 0.77  || test roc: 0.58\n",
      "EPOCH: 446 || train roc: 0.77  || test roc: 0.58\n",
      "EPOCH: 447 || train roc: 0.77  || test roc: 0.58\n",
      "EPOCH: 448 || train roc: 0.77  || test roc: 0.58\n",
      "EPOCH: 449 || train roc: 0.78  || test roc: 0.58\n",
      "EPOCH: 450 || train roc: 0.78  || test roc: 0.58\n",
      "EPOCH: 451 || train roc: 0.78  || test roc: 0.58\n",
      "EPOCH: 452 || train roc: 0.78  || test roc: 0.58\n",
      "EPOCH: 453 || train roc: 0.78  || test roc: 0.58\n",
      "EPOCH: 454 || train roc: 0.78  || test roc: 0.58\n",
      "EPOCH: 455 || train roc: 0.77  || test roc: 0.58\n",
      "EPOCH: 456 || train roc: 0.78  || test roc: 0.58\n",
      "EPOCH: 457 || train roc: 0.77  || test roc: 0.58\n",
      "EPOCH: 458 || train roc: 0.77  || test roc: 0.58\n",
      "EPOCH: 459 || train roc: 0.77  || test roc: 0.58\n",
      "EPOCH: 460 || train roc: 0.77  || test roc: 0.58\n",
      "EPOCH: 461 || train roc: 0.77  || test roc: 0.58\n",
      "EPOCH: 462 || train roc: 0.78  || test roc: 0.58\n",
      "EPOCH: 463 || train roc: 0.78  || test roc: 0.58\n",
      "EPOCH: 464 || train roc: 0.78  || test roc: 0.58\n",
      "EPOCH: 465 || train roc: 0.77  || test roc: 0.59\n",
      "EPOCH: 466 || train roc: 0.78  || test roc: 0.58\n",
      "EPOCH: 467 || train roc: 0.77  || test roc: 0.58\n",
      "EPOCH: 468 || train roc: 0.78  || test roc: 0.58\n",
      "EPOCH: 469 || train roc: 0.78  || test roc: 0.58\n",
      "EPOCH: 470 || train roc: 0.78  || test roc: 0.58\n",
      "EPOCH: 471 || train roc: 0.77  || test roc: 0.58\n",
      "EPOCH: 472 || train roc: 0.78  || test roc: 0.58\n",
      "EPOCH: 473 || train roc: 0.77  || test roc: 0.58\n",
      "EPOCH: 474 || train roc: 0.78  || test roc: 0.59\n",
      "EPOCH: 475 || train roc: 0.77  || test roc: 0.59\n",
      "EPOCH: 476 || train roc: 0.78  || test roc: 0.58\n",
      "EPOCH: 477 || train roc: 0.78  || test roc: 0.58\n",
      "EPOCH: 478 || train roc: 0.77  || test roc: 0.58\n",
      "EPOCH: 479 || train roc: 0.77  || test roc: 0.58\n",
      "EPOCH: 480 || train roc: 0.78  || test roc: 0.58\n",
      "EPOCH: 481 || train roc: 0.77  || test roc: 0.58\n",
      "EPOCH: 482 || train roc: 0.78  || test roc: 0.58\n",
      "EPOCH: 483 || train roc: 0.78  || test roc: 0.58\n",
      "EPOCH: 484 || train roc: 0.77  || test roc: 0.59\n",
      "EPOCH: 485 || train roc: 0.78  || test roc: 0.58\n",
      "EPOCH: 486 || train roc: 0.77  || test roc: 0.58\n",
      "EPOCH: 487 || train roc: 0.77  || test roc: 0.58\n",
      "EPOCH: 488 || train roc: 0.77  || test roc: 0.58\n",
      "EPOCH: 489 || train roc: 0.77  || test roc: 0.58\n",
      "EPOCH: 490 || train roc: 0.77  || test roc: 0.58\n",
      "EPOCH: 491 || train roc: 0.77  || test roc: 0.58\n",
      "EPOCH: 492 || train roc: 0.78  || test roc: 0.58\n",
      "EPOCH: 493 || train roc: 0.78  || test roc: 0.58\n",
      "EPOCH: 494 || train roc: 0.77  || test roc: 0.58\n",
      "EPOCH: 495 || train roc: 0.78  || test roc: 0.58\n",
      "EPOCH: 496 || train roc: 0.78  || test roc: 0.58\n",
      "EPOCH: 497 || train roc: 0.78  || test roc: 0.58\n",
      "EPOCH: 498 || train roc: 0.78  || test roc: 0.58\n",
      "EPOCH: 499 || train roc: 0.78  || test roc: 0.58\n",
      "EPOCH: 500 || train roc: 0.78  || test roc: 0.58\n",
      "EPOCH: 501 || train roc: 0.77  || test roc: 0.58\n",
      "EPOCH: 502 || train roc: 0.78  || test roc: 0.58\n",
      "EPOCH: 503 || train roc: 0.78  || test roc: 0.58\n",
      "EPOCH: 504 || train roc: 0.78  || test roc: 0.58\n",
      "EPOCH: 505 || train roc: 0.78  || test roc: 0.58\n",
      "EPOCH: 506 || train roc: 0.78  || test roc: 0.58\n",
      "EPOCH: 507 || train roc: 0.78  || test roc: 0.58\n",
      "EPOCH: 508 || train roc: 0.78  || test roc: 0.58\n",
      "EPOCH: 509 || train roc: 0.78  || test roc: 0.58\n",
      "EPOCH: 510 || train roc: 0.78  || test roc: 0.58\n",
      "EPOCH: 511 || train roc: 0.78  || test roc: 0.59\n",
      "EPOCH: 512 || train roc: 0.78  || test roc: 0.58\n",
      "EPOCH: 513 || train roc: 0.78  || test roc: 0.58\n",
      "EPOCH: 514 || train roc: 0.78  || test roc: 0.58\n",
      "EPOCH: 515 || train roc: 0.78  || test roc: 0.58\n",
      "EPOCH: 516 || train roc: 0.78  || test roc: 0.58\n",
      "EPOCH: 517 || train roc: 0.78  || test roc: 0.58\n",
      "EPOCH: 518 || train roc: 0.78  || test roc: 0.58\n",
      "EPOCH: 519 || train roc: 0.78  || test roc: 0.58\n",
      "EPOCH: 520 || train roc: 0.78  || test roc: 0.58\n",
      "EPOCH: 521 || train roc: 0.78  || test roc: 0.59\n",
      "EPOCH: 522 || train roc: 0.78  || test roc: 0.58\n",
      "EPOCH: 523 || train roc: 0.78  || test roc: 0.58\n",
      "EPOCH: 524 || train roc: 0.78  || test roc: 0.58\n",
      "EPOCH: 525 || train roc: 0.78  || test roc: 0.58\n",
      "EPOCH: 526 || train roc: 0.78  || test roc: 0.58\n",
      "EPOCH: 527 || train roc: 0.78  || test roc: 0.58\n",
      "EPOCH: 528 || train roc: 0.78  || test roc: 0.59\n",
      "EPOCH: 529 || train roc: 0.78  || test roc: 0.58\n",
      "EPOCH: 530 || train roc: 0.78  || test roc: 0.58\n",
      "EPOCH: 531 || train roc: 0.78  || test roc: 0.59\n",
      "EPOCH: 532 || train roc: 0.78  || test roc: 0.58\n",
      "progress: 338 || test roc: 0.64\r"
     ]
    },
    {
     "ename": "KeyboardInterrupt",
     "evalue": "",
     "output_type": "error",
     "traceback": [
      "\u001b[0;31m---------------------------------------------------------------------------\u001b[0m",
      "\u001b[0;31mKeyboardInterrupt\u001b[0m                         Traceback (most recent call last)",
      "\u001b[0;32m/tmp/ipykernel_1834/3500517839.py\u001b[0m in \u001b[0;36m<module>\u001b[0;34m\u001b[0m\n\u001b[1;32m     12\u001b[0m             \u001b[0moptim\u001b[0m\u001b[0;34m.\u001b[0m\u001b[0mzero_grad\u001b[0m\u001b[0;34m(\u001b[0m\u001b[0;34m)\u001b[0m\u001b[0;34m\u001b[0m\u001b[0;34m\u001b[0m\u001b[0m\n\u001b[1;32m     13\u001b[0m             \u001b[0mA\u001b[0m\u001b[0;34m,\u001b[0m \u001b[0mx\u001b[0m\u001b[0;34m,\u001b[0m \u001b[0my\u001b[0m\u001b[0;34m,\u001b[0m \u001b[0mtrain_mask\u001b[0m\u001b[0;34m,\u001b[0m \u001b[0mtest_mask\u001b[0m\u001b[0;34m,\u001b[0m \u001b[0mweights\u001b[0m \u001b[0;34m=\u001b[0m \u001b[0mget_data\u001b[0m\u001b[0;34m(\u001b[0m\u001b[0mproc\u001b[0m\u001b[0;34m[\u001b[0m\u001b[0mtiss\u001b[0m\u001b[0;34m]\u001b[0m\u001b[0;34m,\u001b[0m \u001b[0mtissues\u001b[0m\u001b[0;34m[\u001b[0m\u001b[0mtiss\u001b[0m\u001b[0;34m]\u001b[0m\u001b[0;34m)\u001b[0m\u001b[0;34m\u001b[0m\u001b[0;34m\u001b[0m\u001b[0m\n\u001b[0;32m---> 14\u001b[0;31m             \u001b[0myhat\u001b[0m \u001b[0;34m=\u001b[0m \u001b[0mmodel\u001b[0m\u001b[0;34m(\u001b[0m\u001b[0mA\u001b[0m\u001b[0;34m,\u001b[0m \u001b[0mx\u001b[0m\u001b[0;34m)\u001b[0m\u001b[0;34m[\u001b[0m\u001b[0;34m:\u001b[0m\u001b[0;34m,\u001b[0m \u001b[0;34m[\u001b[0m\u001b[0mproc_idx\u001b[0m\u001b[0;34m]\u001b[0m\u001b[0;34m]\u001b[0m\u001b[0;34m\u001b[0m\u001b[0;34m\u001b[0m\u001b[0m\n\u001b[0m\u001b[1;32m     15\u001b[0m             \u001b[0mlosses\u001b[0m \u001b[0;34m=\u001b[0m \u001b[0mcrit\u001b[0m\u001b[0;34m(\u001b[0m\u001b[0myhat\u001b[0m\u001b[0;34m[\u001b[0m\u001b[0mtrain_mask\u001b[0m\u001b[0;34m]\u001b[0m\u001b[0;34m,\u001b[0m \u001b[0my\u001b[0m\u001b[0;34m[\u001b[0m\u001b[0mtrain_mask\u001b[0m\u001b[0;34m]\u001b[0m\u001b[0;34m)\u001b[0m\u001b[0;34m\u001b[0m\u001b[0;34m\u001b[0m\u001b[0m\n\u001b[1;32m     16\u001b[0m             \u001b[0mloss\u001b[0m \u001b[0;34m=\u001b[0m \u001b[0;34m(\u001b[0m\u001b[0mlosses\u001b[0m\u001b[0;34m*\u001b[0m\u001b[0mweights\u001b[0m\u001b[0;34m)\u001b[0m\u001b[0;34m.\u001b[0m\u001b[0mmean\u001b[0m\u001b[0;34m(\u001b[0m\u001b[0;34m)\u001b[0m\u001b[0;34m\u001b[0m\u001b[0;34m\u001b[0m\u001b[0m\n",
      "\u001b[0;32m~/miniconda3/envs/nx_env/lib/python3.9/site-packages/torch/nn/modules/module.py\u001b[0m in \u001b[0;36m_call_impl\u001b[0;34m(self, *input, **kwargs)\u001b[0m\n\u001b[1;32m   1100\u001b[0m         if not (self._backward_hooks or self._forward_hooks or self._forward_pre_hooks or _global_backward_hooks\n\u001b[1;32m   1101\u001b[0m                 or _global_forward_hooks or _global_forward_pre_hooks):\n\u001b[0;32m-> 1102\u001b[0;31m             \u001b[0;32mreturn\u001b[0m \u001b[0mforward_call\u001b[0m\u001b[0;34m(\u001b[0m\u001b[0;34m*\u001b[0m\u001b[0minput\u001b[0m\u001b[0;34m,\u001b[0m \u001b[0;34m**\u001b[0m\u001b[0mkwargs\u001b[0m\u001b[0;34m)\u001b[0m\u001b[0;34m\u001b[0m\u001b[0;34m\u001b[0m\u001b[0m\n\u001b[0m\u001b[1;32m   1103\u001b[0m         \u001b[0;31m# Do not call functions when jit is used\u001b[0m\u001b[0;34m\u001b[0m\u001b[0;34m\u001b[0m\u001b[0m\n\u001b[1;32m   1104\u001b[0m         \u001b[0mfull_backward_hooks\u001b[0m\u001b[0;34m,\u001b[0m \u001b[0mnon_full_backward_hooks\u001b[0m \u001b[0;34m=\u001b[0m \u001b[0;34m[\u001b[0m\u001b[0;34m]\u001b[0m\u001b[0;34m,\u001b[0m \u001b[0;34m[\u001b[0m\u001b[0;34m]\u001b[0m\u001b[0;34m\u001b[0m\u001b[0;34m\u001b[0m\u001b[0m\n",
      "\u001b[0;32m/tmp/ipykernel_1834/1629062040.py\u001b[0m in \u001b[0;36mforward\u001b[0;34m(self, A, x)\u001b[0m\n\u001b[1;32m     21\u001b[0m \u001b[0;34m\u001b[0m\u001b[0m\n\u001b[1;32m     22\u001b[0m \u001b[0;34m\u001b[0m\u001b[0m\n\u001b[0;32m---> 23\u001b[0;31m         \u001b[0mA\u001b[0m \u001b[0;34m=\u001b[0m \u001b[0mself\u001b[0m\u001b[0;34m.\u001b[0m\u001b[0mnorm_adj\u001b[0m\u001b[0;34m(\u001b[0m\u001b[0mA\u001b[0m\u001b[0;34m)\u001b[0m\u001b[0;34m\u001b[0m\u001b[0;34m\u001b[0m\u001b[0m\n\u001b[0m\u001b[1;32m     24\u001b[0m \u001b[0;34m\u001b[0m\u001b[0m\n\u001b[1;32m     25\u001b[0m         \u001b[0mh1\u001b[0m \u001b[0;34m=\u001b[0m \u001b[0mA\u001b[0m \u001b[0;34m@\u001b[0m \u001b[0mself\u001b[0m\u001b[0;34m.\u001b[0m\u001b[0mf1\u001b[0m\u001b[0;34m(\u001b[0m\u001b[0mx\u001b[0m\u001b[0;34m)\u001b[0m\u001b[0;34m\u001b[0m\u001b[0;34m\u001b[0m\u001b[0m\n",
      "\u001b[0;32m/tmp/ipykernel_1834/1629062040.py\u001b[0m in \u001b[0;36mnorm_adj\u001b[0;34m(self, A)\u001b[0m\n\u001b[1;32m     16\u001b[0m         \u001b[0;31m#D = torch.eye(A.size(0)) * A.sum(axis=1)\u001b[0m\u001b[0;34m\u001b[0m\u001b[0;34m\u001b[0m\u001b[0m\n\u001b[1;32m     17\u001b[0m         \u001b[0mDinv\u001b[0m \u001b[0;34m=\u001b[0m \u001b[0mtorch\u001b[0m\u001b[0;34m.\u001b[0m\u001b[0mdiag_embed\u001b[0m\u001b[0;34m(\u001b[0m\u001b[0mtorch\u001b[0m\u001b[0;34m.\u001b[0m\u001b[0mpow\u001b[0m\u001b[0;34m(\u001b[0m\u001b[0mA\u001b[0m\u001b[0;34m.\u001b[0m\u001b[0msum\u001b[0m\u001b[0;34m(\u001b[0m\u001b[0mdim\u001b[0m\u001b[0;34m=\u001b[0m\u001b[0;34m-\u001b[0m\u001b[0;36m1\u001b[0m\u001b[0;34m)\u001b[0m\u001b[0;34m,\u001b[0m\u001b[0;34m-\u001b[0m\u001b[0;36m0.5\u001b[0m\u001b[0;34m)\u001b[0m\u001b[0;34m)\u001b[0m\u001b[0;34m\u001b[0m\u001b[0;34m\u001b[0m\u001b[0m\n\u001b[0;32m---> 18\u001b[0;31m         \u001b[0;32mreturn\u001b[0m \u001b[0mDinv\u001b[0m \u001b[0;34m@\u001b[0m \u001b[0mA\u001b[0m \u001b[0;34m@\u001b[0m \u001b[0mDinv\u001b[0m\u001b[0;34m\u001b[0m\u001b[0;34m\u001b[0m\u001b[0m\n\u001b[0m\u001b[1;32m     19\u001b[0m \u001b[0;34m\u001b[0m\u001b[0m\n\u001b[1;32m     20\u001b[0m     \u001b[0;32mdef\u001b[0m \u001b[0mforward\u001b[0m\u001b[0;34m(\u001b[0m\u001b[0mself\u001b[0m\u001b[0;34m,\u001b[0m \u001b[0mA\u001b[0m\u001b[0;34m,\u001b[0m \u001b[0mx\u001b[0m\u001b[0;34m)\u001b[0m\u001b[0;34m:\u001b[0m\u001b[0;34m\u001b[0m\u001b[0;34m\u001b[0m\u001b[0m\n",
      "\u001b[0;31mKeyboardInterrupt\u001b[0m: "
     ]
    }
   ],
   "source": [
    "model = model.train()\n",
    "\n",
    "for epoch in range(5000):\n",
    "    test_roc = []\n",
    "    train_roc = []\n",
    "    test_acc = [] \n",
    "    train_acc = []\n",
    "\n",
    "    proc_idx = 0\n",
    "    for go, proc in processes.items(): \n",
    "        for tiss, labels in proc.items(): \n",
    "            optim.zero_grad()\n",
    "            A, x, y, train_mask, test_mask, weights = get_data(proc[tiss], tissues[tiss])\n",
    "            yhat = model(A, x)[:, [proc_idx]]\n",
    "            losses = crit(yhat[train_mask], y[train_mask])\n",
    "            loss = (losses*weights).mean()\n",
    "            loss.backward() \n",
    "            optim.step()\n",
    "            try: \n",
    "                train_roc.append( roc_auc_score(y[train_mask].detach().numpy(), yhat[train_mask].detach().numpy()) )\n",
    "                test_roc.append( roc_auc_score(y[test_mask].detach().numpy(), yhat[test_mask].detach().numpy()) )\n",
    "                train_acc.append((1.*((yhat[train_mask] > 0.5) == y[train_mask])).mean().item())\n",
    "                test_acc.append((1.*((yhat[test_mask] > 0.5) == y[test_mask])).mean().item())\n",
    "            except: \n",
    "                print('failure:', proc, tiss)\n",
    "\n",
    "            print(f'progress: {proc_idx} || test roc: {test_roc[-1]:.2f}', end='\\r')\n",
    "        proc_idx += 1\n",
    "\n",
    "    print(f'EPOCH: {epoch} || train roc: {np.mean(train_roc):.2f}  || test roc: {np.mean(test_roc):.2f}')\n",
    "    "
   ]
  },
  {
   "cell_type": "code",
   "execution_count": 386,
   "metadata": {},
   "outputs": [
    {
     "data": {
      "text/plain": [
       "(array([  5.,  20.,  21.,  41., 109.,  86.,  41.,  26.,  13.,   6.]),\n",
       " array([0.24283279, 0.30973408, 0.37663538, 0.44353667, 0.51043797,\n",
       "        0.57733926, 0.64424055, 0.71114185, 0.77804314, 0.84494444,\n",
       "        0.91184573]),\n",
       " <BarContainer object of 10 artists>)"
      ]
     },
     "execution_count": 386,
     "metadata": {},
     "output_type": "execute_result"
    },
    {
     "data": {
      "image/png": "[encoded data removed]",
      "text/plain": [
       "<Figure size 432x288 with 1 Axes>"
      ]
     },
     "metadata": {
      "needs_background": "light"
     },
     "output_type": "display_data"
    }
   ],
   "source": [
    "plt.hist(test_roc)"
   ]
  },
  {
   "cell_type": "code",
   "execution_count": 387,
   "metadata": {},
   "outputs": [
    {
     "data": {
      "text/plain": [
       "(array([ 1.,  4., 14., 47., 84., 98., 62., 36., 14.,  8.]),\n",
       " array([0.29260219, 0.34532145, 0.39804071, 0.45075998, 0.50347924,\n",
       "        0.5561985 , 0.60891777, 0.66163703, 0.71435629, 0.76707556,\n",
       "        0.81979482]),\n",
       " <BarContainer object of 10 artists>)"
      ]
     },
     "execution_count": 387,
     "metadata": {},
     "output_type": "execute_result"
    },
    {
     "data": {
      "image/png": "[encoded data removed]",
      "text/plain": [
       "<Figure size 432x288 with 1 Axes>"
      ]
     },
     "metadata": {
      "needs_background": "light"
     },
     "output_type": "display_data"
    }
   ],
   "source": [
    "plt.hist(train_roc)\n"
   ]
  },
  {
   "cell_type": "code",
   "execution_count": 363,
   "metadata": {},
   "outputs": [
    {
     "data": {
      "text/plain": [
       "torch.Size([3477, 1])"
      ]
     },
     "execution_count": 363,
     "metadata": {},
     "output_type": "execute_result"
    }
   ],
   "source": [
    "y.size()"
   ]
  },
  {
   "cell_type": "code",
   "execution_count": 364,
   "metadata": {},
   "outputs": [
    {
     "data": {
      "text/plain": [
       "torch.Size([3477, 3477])"
      ]
     },
     "execution_count": 364,
     "metadata": {},
     "output_type": "execute_result"
    }
   ],
   "source": [
    "A.size()"
   ]
  },
  {
   "cell_type": "code",
   "execution_count": 243,
   "metadata": {},
   "outputs": [
    {
     "data": {
      "image/png": "[encoded data removed]",
      "text/plain": [
       "<Figure size 432x288 with 1 Axes>"
      ]
     },
     "metadata": {
      "needs_background": "light"
     },
     "output_type": "display_data"
    }
   ],
   "source": [
    "plt.figure()\n",
    "plt.plot(test_roc, 'r-', label='test')\n",
    "plt.plot(train_roc, 'b-', label='train')\n",
    "plt.legend()\n",
    "plt.show()"
   ]
  },
  {
   "cell_type": "code",
   "execution_count": 244,
   "metadata": {},
   "outputs": [
    {
     "data": {
      "text/plain": [
       "<sklearn.metrics._plot.confusion_matrix.ConfusionMatrixDisplay at 0x7efda3b12e50>"
      ]
     },
     "execution_count": 244,
     "metadata": {},
     "output_type": "execute_result"
    },
    {
     "data": {
      "image/png": "[encoded data removed]",
      "text/plain": [
       "<Figure size 432x288 with 2 Axes>"
      ]
     },
     "metadata": {
      "needs_background": "light"
     },
     "output_type": "display_data"
    }
   ],
   "source": [
    "model = model.eval()\n",
    "yhat = model(A, x)\n",
    "\n",
    "cm = confusion_matrix(y[test_mask].detach().numpy(), yhat[test_mask].detach().numpy() > 0.5)\n",
    "disp = ConfusionMatrixDisplay(confusion_matrix=cm, display_labels=['not-member', 'is-member'])\n",
    "disp.plot()"
   ]
  },
  {
   "cell_type": "code",
   "execution_count": 245,
   "metadata": {},
   "outputs": [
    {
     "data": {
      "text/plain": [
       "0.6663948906101372"
      ]
     },
     "execution_count": 245,
     "metadata": {},
     "output_type": "execute_result"
    }
   ],
   "source": [
    "roc_auc_score(y[test_mask].detach().numpy(), yhat[test_mask].detach().numpy())"
   ]
  },
  {
   "cell_type": "code",
   "execution_count": 246,
   "metadata": {},
   "outputs": [
    {
     "data": {
      "text/plain": [
       "<sklearn.metrics._plot.confusion_matrix.ConfusionMatrixDisplay at 0x7efda3a73e20>"
      ]
     },
     "execution_count": 246,
     "metadata": {},
     "output_type": "execute_result"
    },
    {
     "data": {
      "image/png": "[encoded data removed]",
      "text/plain": [
       "<Figure size 432x288 with 2 Axes>"
      ]
     },
     "metadata": {
      "needs_background": "light"
     },
     "output_type": "display_data"
    }
   ],
   "source": [
    "cm = confusion_matrix(y[train_mask].detach().numpy(), yhat[train_mask].detach().numpy() > 0.5)\n",
    "disp = ConfusionMatrixDisplay(confusion_matrix=cm, display_labels=['not-member', 'is-member'])\n",
    "disp.plot()"
   ]
  },
  {
   "cell_type": "code",
   "execution_count": null,
   "metadata": {},
   "outputs": [],
   "source": []
  },
  {
   "cell_type": "code",
   "execution_count": null,
   "metadata": {},
   "outputs": [],
   "source": []
  }
 ],
 "metadata": {
  "interpreter": {
   "hash": "87f37224a040bfa4b463d91878f73b73faf0827d9536a45eeb9052fd15598203"
  },
  "kernelspec": {
   "display_name": "Python 3.9.7 ('nx_env')",
   "language": "python",
   "name": "python3"
  },
  "language_info": {
   "codemirror_mode": {
    "name": "ipython",
    "version": 3
   },
   "file_extension": ".py",
   "mimetype": "text/x-python",
   "name": "python",
   "nbconvert_exporter": "python",
   "pygments_lexer": "ipython3",
   "version": "3.9.7"
  },
  "orig_nbformat": 4
 },
 "nbformat": 4,
 "nbformat_minor": 2
}
