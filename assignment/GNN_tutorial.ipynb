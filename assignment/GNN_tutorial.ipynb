{
 "cells": [
  {
   "cell_type": "code",
   "execution_count": 1,
   "metadata": {},
   "outputs": [],
   "source": [
    "import pandas as pd \n",
    "import networkx as nx \n",
    "from cdlib import algorithms\n",
    "import numpy as np\n",
    "from matplotlib import pyplot as plt\n",
    "import sknetwork as skn\n",
    "from sknetwork.embedding import Spectral\n",
    "from sklearn.svm import SVC\n",
    "from sklearn.metrics import precision_recall_fscore_support, confusion_matrix, ConfusionMatrixDisplay, roc_auc_score\n",
    "import torch \n",
    "from sklearn.decomposition import PCA, KernelPCA\n",
    "#import torch_geometric\n",
    "import os"
   ]
  },
  {
   "cell_type": "code",
   "execution_count": 2,
   "metadata": {},
   "outputs": [
    {
     "name": "stdout",
     "output_type": "stream",
     "text": [
      "../data/cora\n"
     ]
    }
   ],
   "source": [
    "data_dir = os.path.expanduser(\"../data/cora\")\n",
    "print(data_dir)"
   ]
  },
  {
   "cell_type": "code",
   "execution_count": 3,
   "metadata": {},
   "outputs": [],
   "source": [
    "edgelist = pd.read_csv(os.path.join(data_dir, \"cora.cites\"), sep='\\t', header=None, names=[\"target\", \"source\"])\n",
    "edgelist[\"label\"] = \"cites\""
   ]
  },
  {
   "cell_type": "code",
   "execution_count": 4,
   "metadata": {},
   "outputs": [
    {
     "data": {
      "text/html": [
       "<div>\n",
       "<style scoped>\n",
       "    .dataframe tbody tr th:only-of-type {\n",
       "        vertical-align: middle;\n",
       "    }\n",
       "\n",
       "    .dataframe tbody tr th {\n",
       "        vertical-align: top;\n",
       "    }\n",
       "\n",
       "    .dataframe thead th {\n",
       "        text-align: right;\n",
       "    }\n",
       "</style>\n",
       "<table border=\"1\" class=\"dataframe\">\n",
       "  <thead>\n",
       "    <tr style=\"text-align: right;\">\n",
       "      <th></th>\n",
       "      <th>target</th>\n",
       "      <th>source</th>\n",
       "      <th>label</th>\n",
       "    </tr>\n",
       "  </thead>\n",
       "  <tbody>\n",
       "    <tr>\n",
       "      <th>0</th>\n",
       "      <td>35</td>\n",
       "      <td>1033</td>\n",
       "      <td>cites</td>\n",
       "    </tr>\n",
       "    <tr>\n",
       "      <th>1</th>\n",
       "      <td>35</td>\n",
       "      <td>103482</td>\n",
       "      <td>cites</td>\n",
       "    </tr>\n",
       "    <tr>\n",
       "      <th>2</th>\n",
       "      <td>35</td>\n",
       "      <td>103515</td>\n",
       "      <td>cites</td>\n",
       "    </tr>\n",
       "    <tr>\n",
       "      <th>3</th>\n",
       "      <td>35</td>\n",
       "      <td>1050679</td>\n",
       "      <td>cites</td>\n",
       "    </tr>\n",
       "    <tr>\n",
       "      <th>4</th>\n",
       "      <td>35</td>\n",
       "      <td>1103960</td>\n",
       "      <td>cites</td>\n",
       "    </tr>\n",
       "  </tbody>\n",
       "</table>\n",
       "</div>"
      ],
      "text/plain": [
       "   target   source  label\n",
       "0      35     1033  cites\n",
       "1      35   103482  cites\n",
       "2      35   103515  cites\n",
       "3      35  1050679  cites\n",
       "4      35  1103960  cites"
      ]
     },
     "execution_count": 4,
     "metadata": {},
     "output_type": "execute_result"
    }
   ],
   "source": [
    "edgelist.head()"
   ]
  },
  {
   "cell_type": "code",
   "execution_count": 5,
   "metadata": {},
   "outputs": [],
   "source": [
    "feature_names = [\"w_{}\".format(ii) for ii in range(1433)]\n",
    "column_names =  feature_names + [\"subject\"]\n",
    "node_data = pd.read_csv(os.path.join(data_dir, \"cora.content\"), sep='\\t', header=None, names=column_names)"
   ]
  },
  {
   "cell_type": "code",
   "execution_count": 6,
   "metadata": {},
   "outputs": [
    {
     "data": {
      "text/html": [
       "<div>\n",
       "<style scoped>\n",
       "    .dataframe tbody tr th:only-of-type {\n",
       "        vertical-align: middle;\n",
       "    }\n",
       "\n",
       "    .dataframe tbody tr th {\n",
       "        vertical-align: top;\n",
       "    }\n",
       "\n",
       "    .dataframe thead th {\n",
       "        text-align: right;\n",
       "    }\n",
       "</style>\n",
       "<table border=\"1\" class=\"dataframe\">\n",
       "  <thead>\n",
       "    <tr style=\"text-align: right;\">\n",
       "      <th></th>\n",
       "      <th>w_0</th>\n",
       "      <th>w_1</th>\n",
       "      <th>w_2</th>\n",
       "      <th>w_3</th>\n",
       "      <th>w_4</th>\n",
       "      <th>w_5</th>\n",
       "      <th>w_6</th>\n",
       "      <th>w_7</th>\n",
       "      <th>w_8</th>\n",
       "      <th>w_9</th>\n",
       "      <th>...</th>\n",
       "      <th>w_1424</th>\n",
       "      <th>w_1425</th>\n",
       "      <th>w_1426</th>\n",
       "      <th>w_1427</th>\n",
       "      <th>w_1428</th>\n",
       "      <th>w_1429</th>\n",
       "      <th>w_1430</th>\n",
       "      <th>w_1431</th>\n",
       "      <th>w_1432</th>\n",
       "      <th>subject</th>\n",
       "    </tr>\n",
       "  </thead>\n",
       "  <tbody>\n",
       "    <tr>\n",
       "      <th>31336</th>\n",
       "      <td>0</td>\n",
       "      <td>0</td>\n",
       "      <td>0</td>\n",
       "      <td>0</td>\n",
       "      <td>0</td>\n",
       "      <td>0</td>\n",
       "      <td>0</td>\n",
       "      <td>0</td>\n",
       "      <td>0</td>\n",
       "      <td>0</td>\n",
       "      <td>...</td>\n",
       "      <td>0</td>\n",
       "      <td>0</td>\n",
       "      <td>1</td>\n",
       "      <td>0</td>\n",
       "      <td>0</td>\n",
       "      <td>0</td>\n",
       "      <td>0</td>\n",
       "      <td>0</td>\n",
       "      <td>0</td>\n",
       "      <td>Neural_Networks</td>\n",
       "    </tr>\n",
       "    <tr>\n",
       "      <th>1061127</th>\n",
       "      <td>0</td>\n",
       "      <td>0</td>\n",
       "      <td>0</td>\n",
       "      <td>0</td>\n",
       "      <td>0</td>\n",
       "      <td>0</td>\n",
       "      <td>0</td>\n",
       "      <td>0</td>\n",
       "      <td>0</td>\n",
       "      <td>0</td>\n",
       "      <td>...</td>\n",
       "      <td>0</td>\n",
       "      <td>1</td>\n",
       "      <td>0</td>\n",
       "      <td>0</td>\n",
       "      <td>0</td>\n",
       "      <td>0</td>\n",
       "      <td>0</td>\n",
       "      <td>0</td>\n",
       "      <td>0</td>\n",
       "      <td>Rule_Learning</td>\n",
       "    </tr>\n",
       "    <tr>\n",
       "      <th>1106406</th>\n",
       "      <td>0</td>\n",
       "      <td>0</td>\n",
       "      <td>0</td>\n",
       "      <td>0</td>\n",
       "      <td>0</td>\n",
       "      <td>0</td>\n",
       "      <td>0</td>\n",
       "      <td>0</td>\n",
       "      <td>0</td>\n",
       "      <td>0</td>\n",
       "      <td>...</td>\n",
       "      <td>0</td>\n",
       "      <td>0</td>\n",
       "      <td>0</td>\n",
       "      <td>0</td>\n",
       "      <td>0</td>\n",
       "      <td>0</td>\n",
       "      <td>0</td>\n",
       "      <td>0</td>\n",
       "      <td>0</td>\n",
       "      <td>Reinforcement_Learning</td>\n",
       "    </tr>\n",
       "    <tr>\n",
       "      <th>13195</th>\n",
       "      <td>0</td>\n",
       "      <td>0</td>\n",
       "      <td>0</td>\n",
       "      <td>0</td>\n",
       "      <td>0</td>\n",
       "      <td>0</td>\n",
       "      <td>0</td>\n",
       "      <td>0</td>\n",
       "      <td>0</td>\n",
       "      <td>0</td>\n",
       "      <td>...</td>\n",
       "      <td>0</td>\n",
       "      <td>0</td>\n",
       "      <td>0</td>\n",
       "      <td>0</td>\n",
       "      <td>0</td>\n",
       "      <td>0</td>\n",
       "      <td>0</td>\n",
       "      <td>0</td>\n",
       "      <td>0</td>\n",
       "      <td>Reinforcement_Learning</td>\n",
       "    </tr>\n",
       "    <tr>\n",
       "      <th>37879</th>\n",
       "      <td>0</td>\n",
       "      <td>0</td>\n",
       "      <td>0</td>\n",
       "      <td>0</td>\n",
       "      <td>0</td>\n",
       "      <td>0</td>\n",
       "      <td>0</td>\n",
       "      <td>0</td>\n",
       "      <td>0</td>\n",
       "      <td>0</td>\n",
       "      <td>...</td>\n",
       "      <td>0</td>\n",
       "      <td>0</td>\n",
       "      <td>0</td>\n",
       "      <td>0</td>\n",
       "      <td>0</td>\n",
       "      <td>0</td>\n",
       "      <td>0</td>\n",
       "      <td>0</td>\n",
       "      <td>0</td>\n",
       "      <td>Probabilistic_Methods</td>\n",
       "    </tr>\n",
       "  </tbody>\n",
       "</table>\n",
       "<p>5 rows × 1434 columns</p>\n",
       "</div>"
      ],
      "text/plain": [
       "         w_0  w_1  w_2  w_3  w_4  w_5  w_6  w_7  w_8  w_9  ...  w_1424  \\\n",
       "31336      0    0    0    0    0    0    0    0    0    0  ...       0   \n",
       "1061127    0    0    0    0    0    0    0    0    0    0  ...       0   \n",
       "1106406    0    0    0    0    0    0    0    0    0    0  ...       0   \n",
       "13195      0    0    0    0    0    0    0    0    0    0  ...       0   \n",
       "37879      0    0    0    0    0    0    0    0    0    0  ...       0   \n",
       "\n",
       "         w_1425  w_1426  w_1427  w_1428  w_1429  w_1430  w_1431  w_1432  \\\n",
       "31336         0       1       0       0       0       0       0       0   \n",
       "1061127       1       0       0       0       0       0       0       0   \n",
       "1106406       0       0       0       0       0       0       0       0   \n",
       "13195         0       0       0       0       0       0       0       0   \n",
       "37879         0       0       0       0       0       0       0       0   \n",
       "\n",
       "                        subject  \n",
       "31336           Neural_Networks  \n",
       "1061127           Rule_Learning  \n",
       "1106406  Reinforcement_Learning  \n",
       "13195    Reinforcement_Learning  \n",
       "37879     Probabilistic_Methods  \n",
       "\n",
       "[5 rows x 1434 columns]"
      ]
     },
     "execution_count": 6,
     "metadata": {},
     "output_type": "execute_result"
    }
   ],
   "source": [
    "node_data.head()"
   ]
  },
  {
   "cell_type": "code",
   "execution_count": 7,
   "metadata": {},
   "outputs": [
    {
     "data": {
      "text/plain": [
       "2708"
      ]
     },
     "execution_count": 7,
     "metadata": {},
     "output_type": "execute_result"
    }
   ],
   "source": [
    "G = nx.from_pandas_edgelist(edgelist)\n",
    "len(G)"
   ]
  },
  {
   "cell_type": "code",
   "execution_count": 14,
   "metadata": {},
   "outputs": [],
   "source": [
    "def get_data(): \n",
    "    A = torch.tensor(nx.adj_matrix(G, nodelist=list(node_data.index)).todense(), dtype=torch.float)\n",
    "    str_y = node_data.subject.values\n",
    "\n",
    "    # onehot encode paper label\n",
    "    labels_enc = np.unique(str_y)\n",
    "    y_idx = np.array([np.where(labels_enc == ystr)[0][0] for ystr in str_y])\n",
    "    #y = np.eye(labels_enc.shape[0])[y_idx]\n",
    "    y = y_idx # cross entropy loss takes one hot encoding index \n",
    "    x = torch.tensor(node_data[node_data.columns[:-1]].values, dtype=torch.float)\n",
    "\n",
    "    A = torch.tensor(A, dtype=torch.float) \n",
    "    y = torch.tensor(y, dtype=torch.long)\n",
    "    x = torch.tensor(x, dtype=torch.float)\n",
    "\n",
    "    _idx = np.arange(y.size(0))\n",
    "    train_idx = np.random.choice(_idx, size=int(0.7*(y.size(0))), replace=False)\n",
    "    _idx = _idx[~np.isin(_idx, train_idx)]\n",
    "    test_idx = np.random.choice(_idx, size=int(0.15*(y.size(0))), replace=False)\n",
    "    val_idx = _idx[~np.isin(_idx, test_idx)]\n",
    "\n",
    "    train_idx = torch.tensor(train_idx, dtype=torch.long)\n",
    "    test_idx = torch.tensor(test_idx, dtype=torch.long)\n",
    "    val_idx = torch.tensor(val_idx, dtype=torch.long)\n",
    "\n",
    "    return A,x,y,train_idx,test_idx,val_idx, labels_enc"
   ]
  },
  {
   "cell_type": "code",
   "execution_count": 15,
   "metadata": {},
   "outputs": [],
   "source": [
    "A,x,y,train_idx,test_idx,val_idx, labels_enc = get_data()"
   ]
  },
  {
   "cell_type": "code",
   "execution_count": 16,
   "metadata": {},
   "outputs": [
    {
     "name": "stdout",
     "output_type": "stream",
     "text": [
      "train length: 1895\n",
      "test length: 406\n",
      "val length: 407\n",
      "total: 2708\n"
     ]
    }
   ],
   "source": [
    "print('train length:', len(train_idx))\n",
    "print('test length:', len(test_idx))\n",
    "print('val length:', len(val_idx))\n",
    "print('total:', len(train_idx) + len(test_idx) + len(val_idx))"
   ]
  },
  {
   "cell_type": "code",
   "execution_count": 17,
   "metadata": {},
   "outputs": [
    {
     "name": "stdout",
     "output_type": "stream",
     "text": [
      "False\n",
      "False\n"
     ]
    }
   ],
   "source": [
    "# double check our train,test,val don't overlap \n",
    "print(np.isin(train_idx,test_idx).any())\n",
    "print(np.isin(train_idx,val_idx).any())"
   ]
  },
  {
   "cell_type": "code",
   "execution_count": 18,
   "metadata": {},
   "outputs": [
    {
     "name": "stdout",
     "output_type": "stream",
     "text": [
      "CLASS COUNTS\n",
      "------------\n",
      "Case_Based : 298\n",
      "Genetic_Algorithms : 418\n",
      "Neural_Networks : 818\n",
      "Probabilistic_Methods : 426\n",
      "Reinforcement_Learning : 217\n",
      "Rule_Learning : 180\n",
      "Theory : 351\n"
     ]
    }
   ],
   "source": [
    "print('CLASS COUNTS')\n",
    "print('------------')\n",
    "label_idx, label_counts = np.unique(y, return_counts=True)\n",
    "for k,v in zip(label_idx, label_counts): \n",
    "    print(labels_enc[k], ':', v)"
   ]
  },
  {
   "cell_type": "code",
   "execution_count": 19,
   "metadata": {},
   "outputs": [],
   "source": [
    "class GNN(torch.nn.Module): \n",
    "    def __init__(self, input, channels, output, cache=True, add_self_loops=True): \n",
    "        super(GNN, self).__init__() \n",
    "        self.f1 = torch.nn.Linear(input, channels)\n",
    "        self.f2 = torch.nn.Linear(channels, channels)\n",
    "        self.nonlin = torch.nn.ReLU()\n",
    "        self.f_out = torch.nn.Sequential(torch.nn.Linear(channels, output))\n",
    "        self.cache = cache\n",
    "        self.norm = None\n",
    "        self.add_self_loops = add_self_loops\n",
    "\n",
    "    def norm_adj(self, A): \n",
    "        '''\n",
    "        normalize by GCN method\n",
    "        '''\n",
    "        if self.add_self_loops: \n",
    "            A[np.eye(A.size(0), dtype=bool)] = 1\n",
    "\n",
    "        Dinv = torch.diag_embed(torch.pow(A.sum(dim=-1),-0.5))\n",
    "        return Dinv @ A @ Dinv\n",
    "\n",
    "    def get_embedding(self, A, x): \n",
    "\n",
    "        if self.cache and (self.norm is None): \n",
    "            A = self.norm_adj(A)\n",
    "            self.norm = A \n",
    "        elif self.cache: \n",
    "            A = self.norm \n",
    "        else: \n",
    "            A = self.norm_adj(A)\n",
    "        \n",
    "        h1 = self.nonlin( A @ self.f1(x) )\n",
    "        h2 = self.nonlin( A @ self.f2(h1) )\n",
    "\n",
    "        return h2\n",
    "\n",
    "    def forward(self, A, x):  \n",
    "        \n",
    "        out = self.get_embedding(A,x)\n",
    "        return torch.softmax( self.f_out(out), dim=-1 )"
   ]
  },
  {
   "cell_type": "code",
   "execution_count": 20,
   "metadata": {},
   "outputs": [],
   "source": [
    "\n",
    "hidden_channels = 64\n",
    "n_epochs = 2000\n",
    "lr = 2e-4\n",
    "\n",
    "model = GNN(x.size(1), 64, len(labels_enc), cache=True, add_self_loops=True)\n",
    "optim = torch.optim.Adam(model.parameters(), lr=lr)\n",
    "crit = torch.nn.CrossEntropyLoss()"
   ]
  },
  {
   "cell_type": "code",
   "execution_count": 21,
   "metadata": {},
   "outputs": [
    {
     "name": "stdout",
     "output_type": "stream",
     "text": [
      "EPOCH: 1999 || train acc: 0.82  || test acc: 0.75\r"
     ]
    }
   ],
   "source": [
    "model = model.train()\n",
    "\n",
    "test_acc = [] \n",
    "train_acc = []\n",
    "val_acc = []\n",
    "\n",
    "for epoch in range(n_epochs):\n",
    "    yhat = model(A, x)\n",
    "    loss = crit(yhat[train_idx, :], y[train_idx])\n",
    "    loss.backward() \n",
    "    optim.step()\n",
    "\n",
    "    train_acc.append((1.*(torch.argmax(yhat[train_idx, :], dim=-1) == y[train_idx])).mean().item())\n",
    "    test_acc.append((1.*(torch.argmax(yhat[test_idx, :], dim=-1) == y[test_idx])).mean().item())\n",
    "    val_acc.append((1.*(torch.argmax(yhat[val_idx, :], dim=-1) == y[val_idx])).mean().item())\n",
    "\n",
    "\n",
    "    print(f'EPOCH: {epoch} || train acc: {train_acc[-1]:.2f}  || test acc: {test_acc[-1]:.2f}', end='\\r')\n",
    "    "
   ]
  },
  {
   "cell_type": "code",
   "execution_count": 22,
   "metadata": {},
   "outputs": [
    {
     "name": "stdout",
     "output_type": "stream",
     "text": [
      "best test epoch: 331\n",
      "GNN test set accuracy: 0.761083722114563\n",
      "GNN validation set accuracy: 0.7690417766571045\n"
     ]
    }
   ],
   "source": [
    "best_test_idx = np.where(np.array(test_acc) == max(test_acc))[0][0]\n",
    "val_acc_at_best_test = np.array(val_acc)[best_test_idx]\n",
    "print('best test epoch:', best_test_idx)\n",
    "print('GNN test set accuracy:', np.array(test_acc)[best_test_idx])\n",
    "print('GNN validation set accuracy:', val_acc_at_best_test)"
   ]
  },
  {
   "cell_type": "code",
   "execution_count": 23,
   "metadata": {},
   "outputs": [
    {
     "data": {
      "image/png": "[encoded data removed]",
      "text/plain": [
       "<Figure size 432x288 with 1 Axes>"
      ]
     },
     "metadata": {
      "needs_background": "light"
     },
     "output_type": "display_data"
    }
   ],
   "source": [
    "plt.figure()\n",
    "plt.plot(test_acc, 'r-', label='test')\n",
    "plt.plot(train_acc, 'b-', label='train')\n",
    "plt.plot(val_acc, 'g-', label='val')\n",
    "plt.legend()\n",
    "plt.show()"
   ]
  },
  {
   "cell_type": "code",
   "execution_count": 24,
   "metadata": {},
   "outputs": [
    {
     "data": {
      "text/plain": [
       "<sklearn.metrics._plot.confusion_matrix.ConfusionMatrixDisplay at 0x7f34e72bab80>"
      ]
     },
     "execution_count": 24,
     "metadata": {},
     "output_type": "execute_result"
    },
    {
     "data": {
      "text/plain": [
       "<Figure size 432x288 with 0 Axes>"
      ]
     },
     "metadata": {},
     "output_type": "display_data"
    },
    {
     "data": {
      "image/png": "[encoded data removed]",
      "text/plain": [
       "<Figure size 432x288 with 2 Axes>"
      ]
     },
     "metadata": {
      "needs_background": "light"
     },
     "output_type": "display_data"
    }
   ],
   "source": [
    "model = model.eval()\n",
    "yhat = model(A, x)\n",
    "plt.figure()\n",
    "cm = confusion_matrix(y[val_idx].detach().numpy(), torch.argmax(yhat[val_idx, :], dim=-1).detach().numpy())\n",
    "disp = ConfusionMatrixDisplay(confusion_matrix=cm, display_labels=labels_enc)\n",
    "disp.plot(xticks_rotation='vertical')"
   ]
  },
  {
   "cell_type": "code",
   "execution_count": 25,
   "metadata": {},
   "outputs": [],
   "source": [
    "embed = model.get_embedding(A,x).detach().numpy()\n",
    "\n",
    "pca = PCA(n_components=2)\n",
    "pc = pca.fit_transform(embed)"
   ]
  },
  {
   "cell_type": "code",
   "execution_count": 26,
   "metadata": {},
   "outputs": [
    {
     "data": {
      "image/png": "[encoded data removed]",
      "text/plain": [
       "<Figure size 504x504 with 1 Axes>"
      ]
     },
     "metadata": {
      "needs_background": "light"
     },
     "output_type": "display_data"
    }
   ],
   "source": [
    "plt.figure(figsize=(7,7))\n",
    "plt.scatter(pc[:,0], pc[:,1], c=y[:], alpha=0.5)\n",
    "plt.show()"
   ]
  },
  {
   "cell_type": "code",
   "execution_count": null,
   "metadata": {},
   "outputs": [],
   "source": []
  },
  {
   "cell_type": "markdown",
   "metadata": {},
   "source": [
    "# Wait a minute, can we predict the class labels using JUST the node features? \n",
    "\n",
    "Maybe we don't need edges at all - do they add predictive power? "
   ]
  },
  {
   "cell_type": "code",
   "execution_count": 27,
   "metadata": {},
   "outputs": [],
   "source": [
    "class NN(torch.nn.Module): \n",
    "    def __init__(self, input, channels, output): \n",
    "        super(NN, self).__init__() \n",
    "        self.f = torch.nn.Sequential(torch.nn.Linear(input, channels), torch.nn.ReLU(), torch.nn.Linear(channels, channels), torch.nn.ReLU(), torch.nn.Linear(channels, output))\n",
    "\n",
    "    def forward(self, x):  \n",
    "        return torch.softmax( self.f(x), dim=-1 )"
   ]
  },
  {
   "cell_type": "code",
   "execution_count": 28,
   "metadata": {},
   "outputs": [],
   "source": [
    "model2 = NN(x.size(1), hidden_channels, len(labels_enc))\n",
    "optim = torch.optim.Adam(model2.parameters(), lr=lr)\n",
    "crit = torch.nn.CrossEntropyLoss()"
   ]
  },
  {
   "cell_type": "code",
   "execution_count": 29,
   "metadata": {},
   "outputs": [
    {
     "name": "stdout",
     "output_type": "stream",
     "text": [
      "EPOCH: 1999 || train acc: 0.84  || test acc: 0.58\r"
     ]
    }
   ],
   "source": [
    "model2 = model2.train()\n",
    "\n",
    "test_acc = [] \n",
    "train_acc = []\n",
    "val_acc = []\n",
    "\n",
    "for epoch in range(n_epochs):\n",
    "    yhat = model2(x)\n",
    "    loss = crit(yhat[train_idx, :], y[train_idx])\n",
    "    loss.backward() \n",
    "    optim.step()\n",
    "\n",
    "    train_acc.append((1.*(torch.argmax(yhat[train_idx, :], dim=-1) == y[train_idx])).mean().item())\n",
    "    test_acc.append((1.*(torch.argmax(yhat[test_idx, :], dim=-1) == y[test_idx])).mean().item())\n",
    "    val_acc.append((1.*(torch.argmax(yhat[val_idx, :], dim=-1) == y[val_idx])).mean().item())\n",
    "\n",
    "    print(f'EPOCH: {epoch} || train acc: {train_acc[-1]:.2f}  || test acc: {test_acc[-1]:.2f}', end='\\r')"
   ]
  },
  {
   "cell_type": "code",
   "execution_count": 30,
   "metadata": {},
   "outputs": [
    {
     "data": {
      "image/png": "[encoded data removed]",
      "text/plain": [
       "<Figure size 432x288 with 1 Axes>"
      ]
     },
     "metadata": {
      "needs_background": "light"
     },
     "output_type": "display_data"
    }
   ],
   "source": [
    "plt.figure()\n",
    "plt.plot(test_acc, 'r-', label='test')\n",
    "plt.plot(train_acc, 'b-', label='train')\n",
    "plt.plot(val_acc, 'g-', label='val')\n",
    "plt.legend()\n",
    "plt.show()"
   ]
  },
  {
   "cell_type": "code",
   "execution_count": 31,
   "metadata": {},
   "outputs": [
    {
     "name": "stdout",
     "output_type": "stream",
     "text": [
      "best test epoch: 527\n",
      "GNN test set accuracy: 0.6083743572235107\n",
      "GNN validation set accuracy: 0.6683046817779541\n"
     ]
    }
   ],
   "source": [
    "best_test_idx = np.where(np.array(test_acc) == max(test_acc))[0][0]\n",
    "val_acc_at_best_test = np.array(val_acc)[best_test_idx]\n",
    "print('best test epoch:', best_test_idx)\n",
    "print('GNN test set accuracy:', np.array(test_acc)[best_test_idx])\n",
    "print('GNN validation set accuracy:', val_acc_at_best_test)"
   ]
  },
  {
   "cell_type": "code",
   "execution_count": null,
   "metadata": {},
   "outputs": [],
   "source": []
  }
 ],
 "metadata": {
  "interpreter": {
   "hash": "87f37224a040bfa4b463d91878f73b73faf0827d9536a45eeb9052fd15598203"
  },
  "kernelspec": {
   "display_name": "Python 3.9.7 ('nx_env')",
   "language": "python",
   "name": "python3"
  },
  "language_info": {
   "codemirror_mode": {
    "name": "ipython",
    "version": 3
   },
   "file_extension": ".py",
   "mimetype": "text/x-python",
   "name": "python",
   "nbconvert_exporter": "python",
   "pygments_lexer": "ipython3",
   "version": "3.9.7"
  },
  "orig_nbformat": 4
 },
 "nbformat": 4,
 "nbformat_minor": 2
}
