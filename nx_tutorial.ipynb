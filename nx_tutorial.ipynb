{
 "cells": [
  {
   "cell_type": "code",
   "execution_count": null,
   "metadata": {},
   "outputs": [],
   "source": [
    "import networkx as nx \n",
    "import pandas as pd \n",
    "from matplotlib import pyplot as plt \n",
    "\n",
    "import numpy as np \n",
    "from networkx.algorithms import community\n",
    "\n",
    "import pandas as pd"
   ]
  },
  {
   "cell_type": "markdown",
   "metadata": {},
   "source": [
    "# BMI 567/667 Networkx Tutorial \n",
    "--- \n",
    "\n",
    "Written by Nate Evans (evansna@ohsu.edu)\n",
    "\n",
    "Revised by Guanming Wu (wug@ohsu.edu)\n",
    "\n",
    "--- \n",
    "\n",
    "[Networkx](https://networkx.org/documentation/stable/) is a python package developed for working with graph data. This class does not require students to use networkx or python for their projects; however, python and networkx are very powerful and extensible tools.  \n",
    "\n",
    "The official `Networkx documentation` has a nice [tutorial](https://networkx.org/documentation/stable/tutorial.html), which covers much of the same material you'll see in this document. The purpose of *this* tutorial is to provide you the pythonic tools to handle BMI 567/667, and to be a \"Movie Trailer\" for the course - e.g., to show off some of the exciting applications of network science.\n",
    "\n",
    "Be sure to check back in on [these](https://networkx.org/documentation/stable/auto_examples/index.html) networkx examples later on. \n",
    "\n",
    "[Ted Laderas](https://laderast.github.io/), one of DMICE's previous professors, put together a tutorial using `igraph` in R - for those who'd rather use R for their network analysis, this may be a useful resource. See his tutorial [here](https://github.com/laderast/igraphTutorial). \n",
    "\n",
    "# To start, let's make a graph \n",
    "\n",
    "---\n",
    "---\n",
    "\n",
    "In `networkx` graph Objects are created by calling `nx.Graph()`, which will initialize and empty graph - you will need to add all the desired edges, nodes and attributes. That said, there are a number of ways to create graphs from `csv` edge lists, adjacency matrices or load common graphs into local memory.  "
   ]
  },
  {
   "cell_type": "code",
   "execution_count": null,
   "metadata": {},
   "outputs": [],
   "source": [
    "G = nx.Graph()          # initializes an empty undirected graph object (for directed graphs, use `nx.DiGraph`) \n",
    "G.add_edge(0, 1)        # add an edge from node 0 to node 1\n",
    "\n",
    "nx.draw_networkx(G)     # plot the graph (this uses a force directed layout, we'll talk about this below)"
   ]
  },
  {
   "cell_type": "markdown",
   "metadata": {},
   "source": [
    "Note that previously to `G.add_edge` there were no nodes and after this there were 2. The `add_edge` function will create new nodes if they don't already exist, but will use the current node if it's already in the graph. \n",
    "\n",
    "# Nodes do not have to be integers - can be strings! \n",
    "\n",
    "Although, note that some applications of graphs require integer identifiers for each node - but we can always assign an integer mapping later. "
   ]
  },
  {
   "cell_type": "code",
   "execution_count": null,
   "metadata": {},
   "outputs": [],
   "source": [
    "G.add_edge('dog', 'cat')\n",
    "nx.draw_networkx(G)"
   ]
  },
  {
   "cell_type": "code",
   "execution_count": null,
   "metadata": {},
   "outputs": [],
   "source": [
    "G.add_node('something')"
   ]
  },
  {
   "cell_type": "code",
   "execution_count": null,
   "metadata": {},
   "outputs": [],
   "source": [
    "nx.draw_networkx(G)"
   ]
  },
  {
   "cell_type": "markdown",
   "metadata": {},
   "source": [
    "# What if I have a whole bunch of edges? Do I have to wrap this in a loop?\n",
    "\n",
    "Ick, no. "
   ]
  },
  {
   "cell_type": "code",
   "execution_count": null,
   "metadata": {},
   "outputs": [],
   "source": [
    "lots_of_edges = [(0, 2), (2,1), (1,'dog')]  # list of tuples containing edges connecting nodes u to v: [(u1,v1), (u2,v2),...]\n",
    "\n",
    "G.add_edges_from(lots_of_edges)\n",
    "\n",
    "nx.draw_networkx(G)"
   ]
  },
  {
   "cell_type": "markdown",
   "metadata": {},
   "source": [
    "# We can add `attributes` to both **edges** and **nodes**.  \n",
    "\n",
    "We can add attributes to nodes either during node creation or after the fact by accessing the node attributes directly. "
   ]
  },
  {
   "cell_type": "code",
   "execution_count": null,
   "metadata": {},
   "outputs": [],
   "source": [
    "# first lets create a new node with an attribute\n",
    "G.add_nodes_from([\n",
    "    ('tree', {\"is_animal\": False}),\n",
    "])\n",
    "\n",
    "# note our `tree` node doesn't have any edges yet. \n",
    "nx.draw_networkx(G)\n",
    "\n",
    "# but we can access the node attributes by \n",
    "print('attribute dictionary:', nx.get_node_attributes(G, name='is_animal'))"
   ]
  },
  {
   "cell_type": "code",
   "execution_count": null,
   "metadata": {},
   "outputs": [],
   "source": [
    "# we can also modify attributes after node creation by directly accessing the attribute dictionary\n",
    "G.nodes['cat']['is_animal'] = True\n",
    "G.nodes['dog']['is_animal'] = True\n",
    "\n",
    "for i in range(3): \n",
    "    G.nodes[i]['is_animal'] = False\n",
    "\n",
    "nx.get_node_attributes(G, name='is_animal')"
   ]
  },
  {
   "cell_type": "markdown",
   "metadata": {},
   "source": [
    "# Let's visualize the attributes! \n",
    "\n",
    "Can't stress how valuable graph visualizations are - both to understand your data and to debug issues. "
   ]
  },
  {
   "cell_type": "code",
   "execution_count": null,
   "metadata": {},
   "outputs": [],
   "source": [
    "# we can also use the attributes for visualization \n",
    "attr_dict = nx.get_node_attributes(G, name='is_animal') \n",
    "\n",
    "nodelist = list(attr_dict.keys())\n",
    "print('nodelist keys: ', nodelist)\n",
    "# int(att) gives us the index of r and b based on True and False, which is casted into 1 or 0 \n",
    "colors = [['r', 'b'][int(attr)] for attr in attr_dict.values()]\n",
    "print('colors: ', colors)\n",
    "\n",
    "# Note: the node called 'something' is not in the nodelist, so it is not displayed.\n",
    "nx.draw_networkx(G, nodelist=nodelist, node_color=colors, font_color='w', node_size=700)"
   ]
  },
  {
   "cell_type": "markdown",
   "metadata": {},
   "source": [
    "# How to add edge attributes \n",
    "\n",
    "Edges can hold attributes as well, and a common form is `edge weights` (e.g., a numerical value assigned to each edge which could represent strength, flow, or something else). "
   ]
  },
  {
   "cell_type": "code",
   "execution_count": null,
   "metadata": {},
   "outputs": [],
   "source": [
    "attributes = {(0, 1): {\"attr1\": 20, \"attr2\": \"nothing\"}, (1, 2): {\"attr2\": 3}}\n",
    "\n",
    "nx.set_edge_attributes(G, attributes)"
   ]
  },
  {
   "cell_type": "code",
   "execution_count": null,
   "metadata": {},
   "outputs": [],
   "source": [
    "# how edge attributes can be accessed \n",
    "nx.edges(G)[(0,1)]"
   ]
  },
  {
   "cell_type": "code",
   "execution_count": null,
   "metadata": {},
   "outputs": [],
   "source": [
    "# another way edge attributes can be accessed \n",
    "nx.get_edge_attributes(G, 'attr2')"
   ]
  },
  {
   "cell_type": "markdown",
   "metadata": {},
   "source": [
    "<hr style=\"border:20px\"> </hr>\n",
    "\n",
    "\n",
    "# Excercise 1. \n",
    "\n",
    "<hr style=\"border:5px black\"> </hr>\n",
    "\n",
    "\n",
    "Try making a new graph by hand, include \n",
    "\n",
    "a) at least 5 nodes  \n",
    "b) at least 1 edge attribute   \n",
    "c) at least 1 node attribute   \n",
    "\n",
    "Then plot your graph. \n",
    "\n",
    "Useful functions: \n",
    "\n",
    "> [nx.Graph()](https://networkx.org/documentation/stable/reference/classes/graph.html?highlight=graph#networkx.Graph)  \n",
    "> [G.add_node()](https://networkx.org/documentation/stable/reference/classes/generated/networkx.Graph.add_node.html?highlight=add_node#networkx.Graph.add_node)    \n",
    "> [nx.add_edges_from()](https://networkx.org/documentation/stable/reference/classes/generated/networkx.Graph.add_edges_from.html)   \n",
    "> [nx.set_node_attributes()](https://networkx.org/documentation/stable/reference/generated/networkx.classes.function.set_node_attributes.html)   \n",
    "> [nx.set_edge_attributes()](https://networkx.org/documentation/stable/reference/generated/networkx.classes.function.set_edge_attributes.html?highlight=set_edge_attributes#networkx.classes.function.set_edge_attributes)    \n",
    "> [nx.draw_networkx()](https://networkx.org/documentation/stable/reference/generated/networkx.drawing.nx_pylab.draw_networkx.html#networkx.drawing.nx_pylab.draw_networkx)   \n"
   ]
  },
  {
   "cell_type": "code",
   "execution_count": null,
   "metadata": {},
   "outputs": [],
   "source": [
    "G2 = nx.Graph()\n",
    "G2.add_edges_from([(0,1), (0,2), (2,3), (3,1), (2,4), (3,4)])\n",
    "nx.draw_networkx(G2)"
   ]
  },
  {
   "cell_type": "code",
   "execution_count": null,
   "metadata": {},
   "outputs": [],
   "source": []
  },
  {
   "cell_type": "code",
   "execution_count": null,
   "metadata": {},
   "outputs": [],
   "source": []
  },
  {
   "attachments": {},
   "cell_type": "markdown",
   "metadata": {},
   "source": [
    "--- \n",
    "--- \n",
    "\n",
    "# (end) Excercise 1. \n",
    "\n",
    "---\n",
    "---\n",
    "\n",
    "# General Graph Formats \n",
    "\n",
    "\n",
    "Graphs can come in many formats, each with advantages and disadvantages. For now, let's cover the basics of the more common forms. \n",
    "\n",
    "\n",
    "## 1. Edge lists \n",
    "\n",
    "Edge lists are super common and very convenient as they're human readable and quite intepretable. These can be read directly into memory using the networkx functions: \n",
    "\n",
    "[nx.from_pandas_edgelist()](https://networkx.org/documentation/stable/reference/generated/networkx.convert_matrix.from_pandas_edgelist.html?highlight=from_pandas_edgelist#networkx.convert_matrix.from_pandas_edgelist): click the link to see an example.  \n",
    "[nx.read_edgelist()](https://networkx.org/documentation/stable/reference/readwrite/generated/networkx.readwrite.edgelist.read_edgelist.html#networkx.readwrite.edgelist.read_edgelist)  \n",
    "[nx.read_weighted_edgelsit](https://networkx.org/documentation/stable/reference/readwrite/generated/networkx.readwrite.edgelist.read_weighted_edgelist.html#networkx.readwrite.edgelist.read_weighted_edgelist)   \n",
    "\n",
    "\n",
    "![image](http://www.lucadavidian.com/wp-content/uploads/2020/08/edge-list___-1024x486.jpg) \n",
    "\n",
    "[image source](http://www.lucadavidian.com/2020/08/18/graphs/) \n",
    "\n",
    "## 2. Adjacency Matrices \n",
    "\n",
    "These are square matrices (unless you're working with bipartite graphs - can imagine why?) where the row index indicates the node `from` and the column index indicates the node `to`. The matrix value indicate whether an edge exists and can be binary or continuous (weighted edges). More info: [[Barbasi]](http://networksciencebook.com/chapter/2#matrix), [[Wiki]](https://en.wikipedia.org/wiki/Adjacency_matrix#:~:text=In%20graph%20theory%20and%20computer,or%20not%20in%20the%20graph.&text=If%20the%20graph%20is%20undirected,the%20adjacency%20matrix%20is%20symmetric.) \n",
    "\n",
    "![](https://mathworld.wolfram.com/images/eps-gif/AdjacencyMatrix_1002.gif) \n",
    "\n",
    "[image source](https://mathworld.wolfram.com/AdjacencyMatrix.html) \n"
   ]
  },
  {
   "cell_type": "code",
   "execution_count": null,
   "metadata": {},
   "outputs": [],
   "source": [
    "# We can write out graph to an edge list with networkx \n",
    "nx.draw_networkx(G)\n",
    "list(nx.generate_edgelist(G))"
   ]
  },
  {
   "cell_type": "code",
   "execution_count": null,
   "metadata": {},
   "outputs": [],
   "source": [
    "# or write it to disk \n",
    "nx.write_edgelist(G, path='./my_graph_edgelist.txt')\n",
    "# note: nx.read_edgelist() also exists "
   ]
  },
  {
   "cell_type": "code",
   "execution_count": null,
   "metadata": {},
   "outputs": [],
   "source": [
    "A_matrix = nx.adjacency_matrix(G)\n",
    "A_matrix = A_matrix.todense()\n",
    "print(A_matrix)\n",
    "print(G.nodes())"
   ]
  },
  {
   "cell_type": "markdown",
   "metadata": {},
   "source": [
    "# Let's learn to navigate the graph\n",
    "\n",
    "---\n",
    "---\n",
    "\n",
    "**General Python Tip**: If you are every curious about the python datatype you can use the function `type()` - or if you want to know what methods are attributed to an object, use `dir()` \n",
    "\n",
    "\n",
    "`G.nodes()` returns a **nodeview** objects, which is an iterable. \n",
    "\n",
    "Additionally, we can access node attributes using either the graph `G` or the `nodeview`. "
   ]
  },
  {
   "cell_type": "code",
   "execution_count": null,
   "metadata": {},
   "outputs": [],
   "source": [
    "for node in G.nodes(): \n",
    "    print(node)"
   ]
  },
  {
   "cell_type": "code",
   "execution_count": null,
   "metadata": {},
   "outputs": [],
   "source": [
    "nodeview = G.nodes()\n",
    "for node in G.nodes(): \n",
    "    print('node:', node)\n",
    "    print('nodeview access:', nodeview[node])\n",
    "    print('graph access:', G[node])\n",
    "    print()"
   ]
  },
  {
   "cell_type": "code",
   "execution_count": null,
   "metadata": {},
   "outputs": [],
   "source": [
    "G.edges()"
   ]
  },
  {
   "cell_type": "code",
   "execution_count": null,
   "metadata": {},
   "outputs": [],
   "source": [
    "nx.draw_networkx(G)"
   ]
  },
  {
   "cell_type": "markdown",
   "metadata": {},
   "source": [
    "--- \n",
    "---\n",
    "# Exercise 2 \n",
    "--- \n",
    "---\n",
    "\n",
    "Ponder these questions: \n",
    "- What does nodeview access give you? What does Graph node access return to you? \n",
    "- How can you navigate the graph from a given node? e.g., traverse along edges from node to node \n",
    "\n",
    "a) Try to load an example graph called [karate club graph](https://en.wikipedia.org/wiki/Zachary%27s_karate_club) using networkx.\n",
    "\n",
    "b) Try to get all the neighbors of `node 33` in the [karate club graph](https://en.wikipedia.org/wiki/Zachary%27s_karate_club). \n",
    "\n",
    "Check that you got the right neighbors by comparing to the graph plot below. \n"
   ]
  },
  {
   "cell_type": "code",
   "execution_count": null,
   "metadata": {},
   "outputs": [],
   "source": [
    "KCG = nx.karate_club_graph() # This is one of the datasets that networkx has stored\n",
    "\n",
    "nx.draw_networkx(KCG)"
   ]
  },
  {
   "cell_type": "code",
   "execution_count": null,
   "metadata": {},
   "outputs": [],
   "source": []
  },
  {
   "cell_type": "code",
   "execution_count": null,
   "metadata": {},
   "outputs": [],
   "source": []
  },
  {
   "cell_type": "code",
   "execution_count": null,
   "metadata": {},
   "outputs": [],
   "source": []
  },
  {
   "cell_type": "markdown",
   "metadata": {},
   "source": [
    "---\n",
    "---\n",
    "# (end) Excercise 2\n",
    "---\n",
    "---\n",
    "\n",
    "Altherative ways to access neighbors include `nx.neighbors(graph, node)` ... this will return a iterator of the neighbors - just like iterating through a graph node view - see the nx master plan yet? \n",
    "\n",
    "Also, I know we haven't talked about it yet, but we can also create `Directed Graphs` using [nx.DiGraph()](https://networkx.org/documentation/stable/reference/classes/digraph.html). For these graph types, you may want to know the  `children/successors` or `parents/predecessors` for this you can use the methods: [nx.successors()](https://networkx.org/documentation/stable/reference/classes/generated/networkx.DiGraph.successors.html) or [nx.predecessors()](https://networkx.org/documentation/stable/reference/classes/generated/networkx.DiGraph.predecessors.html#networkx.DiGraph.predecessors). \n",
    "\n",
    "![](https://www.andrew.cmu.edu/course/15-121/lectures/Collections/pix/linear.bmp)\n",
    "\n",
    "# Network Visualization\n",
    "--- \n",
    "\n",
    "`networkx`'s graph visualization is built on top of the `matplotlib` package. For everyone familiar with this plotting package, networkx syntax is similar. For those not familiar, some of the following resources may be useful: \n",
    "\n",
    "- [Matplotlib documentation & tutorials](https://matplotlib.org/stable/tutorials/index) - *pure gold* \n",
    "- [Towards Datascience tutorial](https://towardsdatascience.com/matplotlib-tutorial-learn-basics-of-pythons-powerful-plotting-library-b5d1b8f67596) - *quick basics* \n",
    "- [chatGPT](https://chat.openai.com) or [Bing Chat](https://www.bing.com) - *Ask for any programming related questions*"
   ]
  },
  {
   "cell_type": "code",
   "execution_count": null,
   "metadata": {},
   "outputs": [],
   "source": [
    "plt.figure()              # creates a figure on which we will be plotting - all current matplotlib operations will be automatically done to this figure\n",
    "nx.draw_networkx(KCG)     # function modifying our figure and creating the visualziation - this is most basic plotting function \n",
    "plt.show()                # display and clear the figure"
   ]
  },
  {
   "cell_type": "markdown",
   "metadata": {},
   "source": [
    "### Graph Layouts and positioning \n",
    "\n",
    "There are many different graph layouts, which dictates where each node is plotted. As you can imagine, this becomes a very challenging step as the graphs become larger and larger. \n",
    "\n",
    "Note: `networkx` is not designed to be a visualization software - so recognize there are going to be limitations. \n",
    "\n",
    "Some common graph layouts include: \n",
    "- [nx.spring_layout()](https://networkx.org/documentation/stable/reference/generated/networkx.drawing.layout.spring_layout.html) \n",
    "- [nx.shell_layout()](https://networkx.org/documentation/stable/reference/generated/networkx.drawing.layout.shell_layout.html) \n",
    "- [nx.random_layout()](https://networkx.org/documentation/stable/reference/generated/networkx.drawing.layout.rescale_layout.html)\n",
    "- [nx.planar_layout()](https://networkx.org/documentation/stable/reference/generated/networkx.drawing.layout.planar_layout.html)  - *only applies to planar graphs* \n",
    "- [nx.kamada_kawai_layout()](https://networkx.org/documentation/stable/reference/generated/networkx.drawing.layout.kamada_kawai_layout.html) \n",
    "- [nx.circular_layout()](https://networkx.org/documentation/stable/reference/generated/networkx.drawing.layout.circular_layout.html) \n",
    "- [nx.spectral_layout()](https://networkx.org/documentation/stable/reference/generated/networkx.drawing.layout.spectral_layout.html)\n",
    "\n",
    "This can be useful to \"zoom in\" or \"zoom out\": [nx.rescale_layout()](https://networkx.org/documentation/stable/reference/generated/networkx.drawing.layout.rescale_layout.html)\n",
    "\n",
    "\n",
    "All of these methods will return a `dict` that provides node positions. e.g., \n",
    "\n",
    "```\n",
    "pos = {node_name : (x_pos, y_pos)} \n",
    "```\n",
    "\n",
    "As such, you can always manually create node positions; however, your position dictionary **must** contain the position for every node in your graph, otherwise an exception will get raised. "
   ]
  },
  {
   "cell_type": "code",
   "execution_count": null,
   "metadata": {},
   "outputs": [],
   "source": [
    "f, axes = plt.subplots(2,3, figsize=(15,10))\n",
    "\n",
    "opts = {'spring':nx.spring_layout(KCG), 'shell':nx.shell_layout(KCG), 'random':nx.random_layout(KCG), 'kamada kawai':nx.kamada_kawai_layout(KCG), 'circular':nx.circular_layout(KCG), 'spectral':nx.spectral_layout(KCG)}\n",
    "\n",
    "for ax,(name,pos) in zip(axes.flat, opts.items()):\n",
    "    nx.draw_networkx(KCG, pos=pos, ax=ax)\n",
    "    ax.set_title(name)\n",
    "    \n",
    "plt.suptitle('Networkx graph layouts')\n",
    "plt.show()"
   ]
  },
  {
   "cell_type": "markdown",
   "metadata": {},
   "source": [
    "## Want more detail and control? \n",
    "\n",
    "Then use: \n",
    "\n",
    "- [nx.draw_networkx_nodes()](https://networkx.org/documentation/stable/reference/generated/networkx.drawing.nx_pylab.draw_networkx_nodes.html)\n",
    "- [nx.draw_networkx_edges()](https://networkx.org/documentation/stable/reference/generated/networkx.drawing.nx_pylab.draw_networkx_edges.html)\n",
    "- [nx.draw_networkx_labels()](https://networkx.org/documentation/stable/reference/generated/networkx.drawing.nx_pylab.draw_networkx_labels.html)\n",
    "\n",
    "This allows for a ton of control, including `shape`, `color`, and `style`. "
   ]
  },
  {
   "cell_type": "code",
   "execution_count": null,
   "metadata": {},
   "outputs": [],
   "source": [
    "pos = nx.spring_layout(KCG)\n",
    "\n",
    "# node shape options: ‘so^>v<dph8’\n",
    "\n",
    "f, axes = plt.subplots(1,3, figsize=(15,5))\n",
    "\n",
    "nx.draw_networkx_nodes(KCG, pos=pos, node_color='r', node_shape='o', ax=axes[0])\n",
    "nx.draw_networkx_nodes(KCG, pos=pos, node_color='b', node_shape='s', ax=axes[1])\n",
    "nx.draw_networkx_nodes(KCG, pos=pos, node_color='g', node_shape='^', ax=axes[2])\n",
    "\n",
    "plt.show()"
   ]
  },
  {
   "cell_type": "code",
   "execution_count": null,
   "metadata": {},
   "outputs": [],
   "source": [
    "# edge styles: ‘-‘, ‘–’, ‘-.’, ‘:’ or words like ‘solid’ or ‘dashed’\n",
    "\n",
    "f, axes = plt.subplots(1,3, figsize=(15,5))\n",
    "nx.draw_networkx_edges(KCG, pos=pos, edge_color='r', style='-', ax=axes[0], alpha=0.1)\n",
    "nx.draw_networkx_edges(KCG, pos=pos, edge_color='b', style='-.', ax=axes[1])\n",
    "nx.draw_networkx_edges(KCG, pos=pos, edge_color='g', style=':', ax=axes[2])\n",
    "plt.show()"
   ]
  },
  {
   "cell_type": "code",
   "execution_count": null,
   "metadata": {},
   "outputs": [],
   "source": [
    "f, axes = plt.subplots(1,3, figsize=(15,5))\n",
    "\n",
    "nx.draw_networkx_nodes(KCG, pos=pos, node_color='w', ax=axes[0])   # Found a bug networkx - relative position is shifted if this isn't called \n",
    "nx.draw_networkx_nodes(KCG, pos=pos, node_color='w', ax=axes[1])   # feel free to try it yourself - comment these three lines out\n",
    "nx.draw_networkx_nodes(KCG, pos=pos, node_color='w', ax=axes[2])   # if it's reproduced on everyones computer we can file a bug for it\n",
    "\n",
    "nx.draw_networkx_labels(KCG, pos=pos, font_color='k', font_size=5, ax=axes[0])\n",
    "nx.draw_networkx_labels(KCG, pos=pos, font_color='b', font_size=10, ax=axes[1])\n",
    "nx.draw_networkx_labels(KCG, pos=pos, font_color='g', font_size=15, ax=axes[2])\n",
    "plt.show()"
   ]
  },
  {
   "cell_type": "code",
   "execution_count": null,
   "metadata": {},
   "outputs": [],
   "source": [
    "plt.figure(figsize=(15,7))\n",
    "\n",
    "nx.draw_networkx_nodes(KCG, pos=pos, node_color='k', node_size=1000, node_shape='o', alpha=0.7)\n",
    "nx.draw_networkx_edges(KCG, pos=pos, edge_color='r', style='-')\n",
    "nx.draw_networkx_labels(KCG, pos=pos, font_color='w', font_size=20)\n",
    "\n",
    "plt.show()"
   ]
  },
  {
   "cell_type": "markdown",
   "metadata": {},
   "source": [
    "## Visualizing node specific or attributes \n",
    "\n",
    "For instance, let's say we want to color all the neighbors of `node 33` differently than non-neighbors. \n",
    "\n",
    "We can do this using the `node_color` argument of `nx.draw_networkx_nodes()`. By passing a list of colors, we can specify individual node colors. The order should match `G.nodes()` **OR** a custom node order can be specified using the `nodelist` argument. See the [docs](https://networkx.org/documentation/stable/reference/generated/networkx.drawing.nx_pylab.draw_networkx_nodes.html) for more info.\n",
    "\n",
    "This can also be done for `labels` or `edges` in similar fashion. "
   ]
  },
  {
   "cell_type": "code",
   "execution_count": null,
   "metadata": {},
   "outputs": [],
   "source": [
    "KCG.nodes()"
   ]
  },
  {
   "cell_type": "code",
   "execution_count": null,
   "metadata": {},
   "outputs": [],
   "source": [
    "neighbors33 = [x for x in KCG.neighbors(33)] + [33]\n",
    "colors = [['r', 'c'][x in neighbors33] for x in KCG.nodes()]\n",
    "sizes = [[250, 900][x == 33] for x in KCG.nodes()]\n",
    "\n",
    "nx.draw_networkx(KCG, \n",
    "                 pos=pos, \n",
    "                 node_color=colors, \n",
    "                 node_size=sizes)"
   ]
  },
  {
   "cell_type": "markdown",
   "metadata": {},
   "source": [
    "---\n",
    "---\n",
    "\n",
    "\n",
    "# Excercise 3\n",
    "\n",
    "---\n",
    "---\n",
    "\n",
    "Plot the KCG graph, but: \n",
    "\n",
    "- change the color of nodes 1,10,12 and 26.\n",
    "- make node 12 really big \n",
    "- make the edge from node 33 to node 13 really big and color it red "
   ]
  },
  {
   "cell_type": "code",
   "execution_count": null,
   "metadata": {},
   "outputs": [],
   "source": []
  },
  {
   "cell_type": "code",
   "execution_count": null,
   "metadata": {},
   "outputs": [],
   "source": []
  },
  {
   "cell_type": "code",
   "execution_count": null,
   "metadata": {},
   "outputs": [],
   "source": []
  },
  {
   "cell_type": "markdown",
   "metadata": {},
   "source": [
    "--- \n",
    "---\n",
    "\n",
    "# (end) Excercise 3 \n",
    "---\n",
    "---\n",
    "\n",
    "\n",
    "# Alternative Graph Visualization Tools\n",
    "\n",
    "Other tools, like [cytoscape](https://cytoscape.org/), [igraph](https://igraph.org/), [graphviz](https://graphviz.org/) or [graphia](https://graphia.app/) may be better suited for large graph visualization. \n",
    "\n",
    "Python's `matplotlib` and `netowrkx` has a lot of convenience and extensibility for plotting; however, it is not interactive and I've never been completely content with the plotting layouts (like force-directed/spring or circular), especially for large graphs. \n",
    "\n",
    "To improve on this, there are some other tools that have been developed for interactive graph visualization. Dr. Wu will introduce you to cytoscape. One pythonic approach that I like is the [Jaal](https://github.com/imohitmayank/jaal) package, which is built on [Dash](https://dash.plotly.com/) and [visdcc](https://github.com/jimmybow/visdcc). "
   ]
  },
  {
   "cell_type": "markdown",
   "metadata": {},
   "source": [
    "# Community Detection\n",
    "\n",
    "---\n",
    "---\n",
    "\n",
    "Within a graph, we often want to know if there are subsets of nodes that are more strongly connected - we call such subsets a `community` or `module` and many algorithms have been developed to detect these communities. \n",
    "\n",
    "We will explore communnity detection in depth later in this course but for now, accept that one method of community detection is based on maximizing the [modularity](https://en.wikipedia.org/wiki/Modularity_(networks)) of node subsets. \n",
    "\n",
    "> `Modularity`: Modularity is the fraction of the edges that fall within the given groups minus the expected fraction if edges were distributed at random. \n",
    "\n",
    "![image](https://dist.neo4j.com/wp-content/uploads/20190315074210/modularity-graph-database-1.png)\n",
    "\n",
    "\n",
    "## Our own quick example\n"
   ]
  },
  {
   "cell_type": "code",
   "execution_count": null,
   "metadata": {},
   "outputs": [],
   "source": [
    "G = nx.Graph()\n",
    "G.add_edges_from([(0,1), (1,2), (2,0), (3,0), (3,4), (3,5), (4,5)])\n",
    "nx.draw_networkx(G)"
   ]
  },
  {
   "cell_type": "markdown",
   "metadata": {},
   "source": [
    "## If we had to partition this graph into two communities, what would give the highest modularity? "
   ]
  },
  {
   "cell_type": "code",
   "execution_count": null,
   "metadata": {},
   "outputs": [],
   "source": [
    "nx.algorithms.community.quality.modularity(G, communities=[{0,1,2},{3,4,5}])"
   ]
  },
  {
   "cell_type": "code",
   "execution_count": null,
   "metadata": {},
   "outputs": [],
   "source": [
    "nx.algorithms.community.quality.modularity(G, communities=[{2,3,4},{5,0,1}])"
   ]
  },
  {
   "cell_type": "markdown",
   "metadata": {},
   "source": [
    "# Community Clustering with the `louvain` algorithm \n",
    "\n",
    "---\n",
    "---\n",
    "\n",
    "This method is well suited to large graphs and performs well in practice - It attempts to maximize the modularity of the partitions. \n",
    "\n",
    "For more information, see [wikipedia](https://en.wikipedia.org/wiki/Louvain_method) or [chapter 9](http://networksciencebook.com/chapter/9#modularity) of the Barbasi textbook. \n",
    "\n",
    "**Note: An updated version of the Louvain algorithm is called `Leiden`, which is implemented in a Python packagae called [leidenalg](https://github.com/vtraag/leidenalg).**"
   ]
  },
  {
   "cell_type": "code",
   "execution_count": null,
   "metadata": {},
   "outputs": [],
   "source": [
    "coms = nx.community.louvain_communities(KCG, seed=123456) \n",
    "coms"
   ]
  },
  {
   "cell_type": "code",
   "execution_count": null,
   "metadata": {},
   "outputs": [],
   "source": [
    "pos = nx.spring_layout(KCG) \n",
    "\n",
    "plt.figure(figsize=(10,10))\n",
    "\n",
    "for com,color in zip(coms, ['r','b','g','c']): \n",
    "    nx.draw_networkx_nodes(KCG.subgraph(com), pos=pos, node_color=color, node_size=500)\n",
    "\n",
    "nx.draw_networkx_labels(KCG, pos=pos, font_color='w')\n",
    "nx.draw_networkx_edges(KCG, pos=pos)\n",
    "plt.show()"
   ]
  },
  {
   "cell_type": "markdown",
   "metadata": {},
   "source": [
    "# Graph metrics! \n",
    "\n",
    "We haven't covered this yet, but many metrics can be calculated for nodes, edges and whole-graphs. These metrics can be used to understand node or edge importance, graph connectness and density, and much more! \n",
    "\n",
    "To begin, let's introduce `node degree`: The degree of a node is the number of incoming or outgoing edges and can be further divided into `in-degree` and `out-degree` if our network is directed. \n",
    "\n",
    "The distribution of a graphs node-degrees is important in several ways - and this will be discussed later in the course. For now, let's explore how to get the degree of a node and graph.\n",
    "\n",
    "\n",
    "## A few common graph metrics\n",
    "\n",
    "![image](https://www.frontiersin.org/files/Articles/439505/fnins-13-00585-HTML-r1/image_m/fnins-13-00585-g005.jpg) \n",
    "\n",
    "Image citation: \n",
    "\n",
    "1. Farahani FV, Karwowski W, Lighthall NR. Application of Graph Theory for Identifying Connectivity Patterns in Human Brain Networks: A Systematic Review. Front Neurosci. 2019 Jun 6;13:585. doi: 10.3389/fnins.2019.00585. PMID: 31249501; PMCID: PMC6582769."
   ]
  },
  {
   "cell_type": "code",
   "execution_count": null,
   "metadata": {},
   "outputs": [],
   "source": []
  },
  {
   "cell_type": "code",
   "execution_count": null,
   "metadata": {},
   "outputs": [],
   "source": [
    "# to get node degree: \n",
    "G.degree()"
   ]
  },
  {
   "cell_type": "code",
   "execution_count": null,
   "metadata": {},
   "outputs": [],
   "source": [
    "# whats this look like?\n",
    "nx.draw_networkx(G, node_color=list(dict(G.degree()).values()), font_color='r')"
   ]
  },
  {
   "cell_type": "code",
   "execution_count": null,
   "metadata": {},
   "outputs": [],
   "source": [
    "nx.degree_centrality(G)"
   ]
  },
  {
   "cell_type": "code",
   "execution_count": null,
   "metadata": {},
   "outputs": [],
   "source": [
    "nx.betweenness_centrality(G)"
   ]
  },
  {
   "cell_type": "code",
   "execution_count": null,
   "metadata": {},
   "outputs": [],
   "source": [
    "# the original google algorithm\n",
    "nx.pagerank(G)"
   ]
  },
  {
   "cell_type": "code",
   "execution_count": null,
   "metadata": {},
   "outputs": [],
   "source": [
    "f, axes = plt.subplots(1,3, figsize=(21,7))\n",
    "\n",
    "pos = nx.spring_layout(KCG)\n",
    "\n",
    "nx.draw_networkx_edges(KCG, pos=pos, ax=axes[0])\n",
    "nx.draw_networkx_edges(KCG, pos=pos, ax=axes[1])\n",
    "nx.draw_networkx_edges(KCG, pos=pos, ax=axes[2])\n",
    "\n",
    "nx.draw_networkx_nodes(KCG, pos=pos, node_size=1000*np.array(list(nx.degree_centrality(KCG).values())), ax=axes[0])  \n",
    "nx.draw_networkx_nodes(KCG, pos=pos, node_size=2000*np.array(list(nx.betweenness_centrality(KCG).values())), ax=axes[1])  \n",
    "nx.draw_networkx_nodes(KCG, pos=pos, node_size=3000*np.array(list(nx.pagerank(KCG).values())), ax=axes[2])   \n",
    "\n",
    "nx.draw_networkx_labels(KCG, pos=pos, ax=axes[0])\n",
    "nx.draw_networkx_labels(KCG, pos=pos, ax=axes[1])\n",
    "nx.draw_networkx_labels(KCG, pos=pos, ax=axes[2])\n",
    "\n",
    "axes[0].set_title('degree centrality')\n",
    "axes[1].set_title('betweenness centrality')\n",
    "axes[2].set_title('pagerank centrality')\n",
    "\n",
    "plt.show()"
   ]
  },
  {
   "cell_type": "code",
   "execution_count": null,
   "metadata": {},
   "outputs": [],
   "source": [
    "plt.figure()\n",
    "plt.plot(np.array(list(nx.degree_centrality(KCG).values())), np.array(list(nx.betweenness_centrality(KCG).values())), 'b.')\n",
    "plt.xlabel('degree centrality')\n",
    "plt.ylabel('pagerank')\n",
    "plt.show()"
   ]
  },
  {
   "cell_type": "markdown",
   "metadata": {},
   "source": [
    "## Let's use a bigger graph \n",
    "\n",
    "We'll generate a random graph using [nx.dual_barabasi_albert_graph](https://networkx.org/documentation/stable/reference/generated/networkx.generators.random_graphs.barabasi_albert_graph.html).\n",
    "\n",
    "You can adjust the number of nodes using the `n` parameter. What do you notice about the plotting as `n` gets large? "
   ]
  },
  {
   "cell_type": "code",
   "execution_count": null,
   "metadata": {},
   "outputs": [],
   "source": [
    "# plot the degree distribution for \n",
    "\n",
    "big_G = nx.dual_barabasi_albert_graph(n=700, m1=50, m2=50, p=0.05, seed=0)\n",
    "\n",
    "pos = nx.spring_layout(big_G) \n",
    "\n",
    "plt.figure(figsize=(10,10))\n",
    "nx.draw_networkx_edges(big_G, pos=pos, alpha=0.01)\n",
    "plt.show()"
   ]
  },
  {
   "cell_type": "code",
   "execution_count": null,
   "metadata": {},
   "outputs": [],
   "source": [
    "plt.figure()\n",
    "plt.hist(dict(big_G.degree()).values(), bins=50)\n",
    "plt.xlabel('degree')\n",
    "plt.ylabel('count')\n",
    "plt.show()"
   ]
  },
  {
   "cell_type": "code",
   "execution_count": null,
   "metadata": {},
   "outputs": [],
   "source": [
    "# for degree distributions, we often visualize in log counts. \n",
    "\n",
    "plt.figure()\n",
    "plt.hist(dict(big_G.degree()).values(), bins=50)\n",
    "plt.xlabel('degree')\n",
    "plt.ylabel('count')\n",
    "plt.yscale('log')\n",
    "plt.show()"
   ]
  },
  {
   "cell_type": "code",
   "execution_count": null,
   "metadata": {},
   "outputs": [],
   "source": [
    "dc = dict(nx.centrality.degree_centrality(big_G))\n",
    "nodelist = list(dc.keys())\n",
    "centrality = list(dc.values())\n",
    "\n",
    "plt.figure(figsize=(10,10))\n",
    "nx.draw_networkx_edges(big_G, pos=pos, alpha=0.01)\n",
    "nx.draw_networkx_nodes(big_G, pos=pos, nodelist=nodelist, node_color=centrality, alpha=1, node_size=20)\n",
    "plt.show()"
   ]
  },
  {
   "cell_type": "markdown",
   "metadata": {},
   "source": [
    "# Let's do a real analysis! \n",
    "\n",
    "We'll use the reactome functional interaction network, which can be downloaded [here](https://reactome.org/download/tools/ReatomeFIs/FIsInGene_070323_with_annotations.txt.zip). \n",
    "\n",
    "citation: [Illuminating Dark Proteins using Reactome Pathways](https://www.biorxiv.org/content/10.1101/2023.06.05.543335v1)"
   ]
  },
  {
   "cell_type": "code",
   "execution_count": null,
   "metadata": {},
   "outputs": [],
   "source": [
    "fi_data = pd.read_csv('data/FIsInGene_070323_with_annotations.txt', sep='\\t')\n",
    "fi_data.head()"
   ]
  },
  {
   "cell_type": "markdown",
   "metadata": {},
   "source": [
    "---\n",
    "---\n",
    "# Excercise 4\n",
    "---\n",
    "---\n",
    "\n",
    "Perform an EDA. \n",
    "\n",
    "- How many genes are there? \n",
    "- What the min/max/distribution of \"score\"? \n",
    "- How many of each edge type are there? \n",
    "- What percentage of the edges have the `predicted` annotation? \n",
    "\n",
    "\n",
    "Create an nx.Graph\n",
    "\n",
    "Remember: [nx.from_pandas_edgelist()](https://networkx.org/documentation/stable/reference/generated/networkx.convert_matrix.from_pandas_edgelist.html?highlight=from_pandas_edgelist#networkx.convert_matrix.from_pandas_edgelist)\n"
   ]
  },
  {
   "cell_type": "code",
   "execution_count": null,
   "metadata": {},
   "outputs": [],
   "source": []
  },
  {
   "cell_type": "code",
   "execution_count": null,
   "metadata": {},
   "outputs": [],
   "source": []
  },
  {
   "cell_type": "markdown",
   "metadata": {},
   "source": [
    "# (end) Excercise 4 "
   ]
  },
  {
   "cell_type": "code",
   "execution_count": null,
   "metadata": {},
   "outputs": [],
   "source": []
  },
  {
   "cell_type": "code",
   "execution_count": null,
   "metadata": {},
   "outputs": [],
   "source": []
  },
  {
   "cell_type": "code",
   "execution_count": null,
   "metadata": {},
   "outputs": [],
   "source": [
    "\n",
    "\n",
    "\n",
    "\n",
    "\n",
    "\n",
    "\n",
    "\n",
    "\n",
    "\n",
    "\n",
    "\n",
    "\n",
    "\n",
    "\n",
    "\n",
    "\n",
    "# Don't scroll down until you've done your EDA \n",
    "\n",
    "\n",
    "\n",
    "\n",
    "\n",
    "\n",
    "\n",
    "\n",
    "\n",
    "\n",
    "\n",
    "\n",
    "\n",
    "\n",
    "\n",
    "\n",
    "\n"
   ]
  },
  {
   "cell_type": "code",
   "execution_count": null,
   "metadata": {},
   "outputs": [],
   "source": []
  },
  {
   "cell_type": "code",
   "execution_count": null,
   "metadata": {},
   "outputs": [],
   "source": []
  },
  {
   "cell_type": "code",
   "execution_count": null,
   "metadata": {},
   "outputs": [],
   "source": [
    "# what type of edges are there? \n",
    "fi_data.groupby('Annotation').count()['Gene1'].sort_values(ascending=False).head(10)"
   ]
  },
  {
   "cell_type": "code",
   "execution_count": null,
   "metadata": {},
   "outputs": [],
   "source": [
    "# what directions types are there? \n",
    "fi_data.groupby('Direction').count()['Gene1']"
   ]
  },
  {
   "cell_type": "code",
   "execution_count": null,
   "metadata": {},
   "outputs": [],
   "source": [
    "# make our graph\n",
    "fi_G = nx.from_pandas_edgelist(fi_data, source='Gene1', target='Gene2', edge_attr=['Annotation', 'Direction', 'Score'])"
   ]
  },
  {
   "cell_type": "code",
   "execution_count": null,
   "metadata": {},
   "outputs": [],
   "source": [
    "# first, let's get some basic info... (extract this info directly from the graph object, e.g., don't use the dataframe) \n",
    "\n",
    "n_nodes = len(fi_G)\n",
    "print(f'how many nodes/genes are there? {n_nodes}')\n",
    "\n",
    "n_edges = len(fi_G.edges())\n",
    "print(f'how many edges are there? {n_edges}')\n",
    "\n",
    "n_pred_edges = len([x for x in nx.get_edge_attributes(fi_G, 'Annotation').values() if x == 'predicted'])\n",
    "print(f'how many `predicted` edges are there? {n_pred_edges}')\n",
    "\n",
    "n_known_edges = len([x for x in nx.get_edge_attributes(fi_G, 'Annotation').values() if x != 'predicted'])\n",
    "print(f'how many true/known edges are there? {n_known_edges}')\n",
    "\n",
    "print(f'percentage of predicted edges: {(100*n_pred_edges / (n_known_edges + n_pred_edges)):.2f} %')\n",
    "\n",
    "\n",
    "## plot the distribution of edge \"score\" of \"predicted\" edges. \n",
    "#### what y-axis scaling is most useful? \n",
    "scores = nx.get_edge_attributes(fi_G, 'Score')\n",
    "annot = nx.get_edge_attributes(fi_G, 'Annotation')\n",
    "pred_scores = [scores[edge] for edge in annot if annot[edge] == 'predicted']\n",
    "\n",
    "plt.figure() \n",
    "plt.hist(pred_scores, bins=25)\n",
    "plt.yscale('log')\n",
    "plt.show()\n"
   ]
  },
  {
   "cell_type": "markdown",
   "metadata": {},
   "source": [
    "# What does the degree distribution look like? "
   ]
  },
  {
   "cell_type": "code",
   "execution_count": null,
   "metadata": {},
   "outputs": [],
   "source": [
    "plt.figure()\n",
    "plt.hist(dict(fi_G.degree()).values(), bins=50)\n",
    "plt.yscale('log')\n",
    "plt.show()"
   ]
  },
  {
   "cell_type": "markdown",
   "metadata": {},
   "source": [
    "# Who are these nodes with really high degree? \n",
    "\n",
    "Represent \"Hubs\" in the protein-protein interaction network - what might this mean? "
   ]
  },
  {
   "cell_type": "code",
   "execution_count": null,
   "metadata": {},
   "outputs": [],
   "source": [
    "{k:v for k,v in dict(fi_G.degree()).items() if v > 750}"
   ]
  },
  {
   "cell_type": "markdown",
   "metadata": {},
   "source": [
    "# What is the most common edge `Annotation` of the gene with highest degree? "
   ]
  },
  {
   "cell_type": "code",
   "execution_count": null,
   "metadata": {},
   "outputs": [],
   "source": [
    "fi_data[lambda x: ((x.Gene1 == 'EP300') | (x.Gene2 == 'EP300'))].groupby('Annotation').count()['Gene1'].sort_values(ascending=False).head(10)"
   ]
  },
  {
   "cell_type": "markdown",
   "metadata": {},
   "source": [
    "# Are there isolates? multiple components? \n",
    "\n",
    "![](http://web.math.princeton.edu/math_alive/5/Lab1/Isolated.jpg)\n",
    "\n",
    "[image source](http://web.math.princeton.edu/math_alive/5/Lab1/Defs.html)\n",
    "\n",
    "A graph can be in one or many components, additionally - some nodes may not have any edges, and we call these isolates. "
   ]
  },
  {
   "cell_type": "code",
   "execution_count": null,
   "metadata": {},
   "outputs": [],
   "source": [
    "# how many isolates are there? \n",
    "len(list(nx.isolates(fi_G)))"
   ]
  },
  {
   "cell_type": "code",
   "execution_count": null,
   "metadata": {},
   "outputs": [],
   "source": [
    "# how many components are there?\n",
    "comps = list(nx.connected_components(fi_G))\n",
    "len(comps)"
   ]
  },
  {
   "cell_type": "code",
   "execution_count": null,
   "metadata": {},
   "outputs": [],
   "source": [
    "# are there multiple large components? \n",
    "\n",
    "plt.figure()\n",
    "plt.hist([len(x) for x in comps], bins=np.linspace(0,10,15))\n",
    "plt.show()\n",
    "\n",
    "print('largest components:', sorted([len(x) for x in comps])[::-1][0:5])"
   ]
  },
  {
   "cell_type": "markdown",
   "metadata": {},
   "source": [
    "# Let's focus on just the largest component we'll filter the nodes in other components\n",
    "\n",
    "To do this we will use [nx.subgraph()](https://networkx.org/documentation/stable/reference/classes/generated/networkx.Graph.subgraph.html). \n",
    "\n",
    "But what is a subgraph? "
   ]
  },
  {
   "cell_type": "code",
   "execution_count": null,
   "metadata": {},
   "outputs": [],
   "source": [
    "pos = nx.spring_layout(G)\n",
    "\n",
    "f, axes = plt.subplots(1,2,figsize=(10,5))\n",
    "\n",
    "axes[0].set_title('full graph')\n",
    "nx.draw_networkx(G, ax=axes[0], pos=pos)\n",
    "\n",
    "G2 = nx.subgraph(G, {0,1,3,4,5}) # create subgraph\n",
    "nx.draw_networkx_nodes(G, pos, ax=axes[1], node_color='w')\n",
    "nx.draw_networkx(G2, ax=axes[1], pos=pos)\n",
    "axes[1].set_title('sub-graph')\n",
    "plt.show()"
   ]
  },
  {
   "cell_type": "code",
   "execution_count": null,
   "metadata": {},
   "outputs": [],
   "source": [
    "fi_G2 = nx.subgraph(fi_G, comps[0])\n",
    "len(fi_G2) # confirm we used the right component"
   ]
  },
  {
   "cell_type": "markdown",
   "metadata": {},
   "source": [
    "# Plot the graph "
   ]
  },
  {
   "cell_type": "code",
   "execution_count": null,
   "metadata": {},
   "outputs": [],
   "source": [
    "# this can take a while (~1-5 minutes) so make sure to just do it once \n",
    "# you can reduce the `iterations` (default 50) to speed the step up. \n",
    "# see docs: https://networkx.org/documentation/stable/reference/generated/networkx.drawing.layout.spring_layout.html\n",
    "\n",
    "pos = nx.spring_layout(fi_G2, iterations=5, k=10, seed=0)\n",
    "plt.figure(figsize=(10,10))\n",
    "nx.draw_networkx_edges(fi_G2, pos=pos, alpha=0.002)\n",
    "plt.show()"
   ]
  },
  {
   "cell_type": "markdown",
   "metadata": {},
   "source": [
    "# So useful! \n",
    "\n",
    "For this tutorial, let's try to focus in on a smaller piece. How do we choose though? \n",
    "\n",
    "We'll use community detection to identify sub-graphs."
   ]
  },
  {
   "cell_type": "code",
   "execution_count": null,
   "metadata": {},
   "outputs": [],
   "source": [
    "coms = nx.community.louvain_communities(fi_G2)\n",
    "\n",
    "for i,com in enumerate(coms): \n",
    "    if len(com) > 50: print(f'community {i}: size: {len(com)}')"
   ]
  },
  {
   "cell_type": "code",
   "execution_count": null,
   "metadata": {},
   "outputs": [],
   "source": [
    "fiComp = fi_G2.subgraph(coms[1])\n",
    "fiComp.nodes()"
   ]
  },
  {
   "cell_type": "code",
   "execution_count": null,
   "metadata": {},
   "outputs": [],
   "source": [
    "pos = nx.spring_layout(fiComp, iterations=50, seed=0)"
   ]
  },
  {
   "cell_type": "code",
   "execution_count": null,
   "metadata": {},
   "outputs": [],
   "source": [
    "plt.figure(figsize=(10,10))\n",
    "nx.draw_networkx(fiComp, pos=pos)\n",
    "plt.show()"
   ]
  },
  {
   "cell_type": "markdown",
   "metadata": {},
   "source": [
    "---\n",
    "---\n",
    "# Excercise 5 \n",
    "---\n",
    "---\n",
    "\n",
    "Take a few minutes to try plotting the other communities - anything intresting? "
   ]
  },
  {
   "cell_type": "code",
   "execution_count": null,
   "metadata": {},
   "outputs": [],
   "source": []
  },
  {
   "cell_type": "code",
   "execution_count": null,
   "metadata": {},
   "outputs": [],
   "source": []
  },
  {
   "cell_type": "code",
   "execution_count": null,
   "metadata": {},
   "outputs": [],
   "source": []
  },
  {
   "cell_type": "markdown",
   "metadata": {},
   "source": [
    "---\n",
    "---\n",
    "# (end) Excercise 5\n",
    "---\n",
    "---"
   ]
  },
  {
   "cell_type": "markdown",
   "metadata": {},
   "source": [
    "# Let's think about how to visualize our graph in a new way. \n",
    "\n",
    "Instead of plotting all the nodes, let's take a `graph coarsening` approach: Nodes will now represent communities (# members ~ node size) and edges represent the number of member interactions with proteins in other communities."
   ]
  },
  {
   "cell_type": "code",
   "execution_count": null,
   "metadata": {},
   "outputs": [],
   "source": [
    "communities = [x for x in coms if len(x) > 50] # filter our network to only communities with X members\n",
    "\n",
    "newG = nx.Graph() \n",
    "for i,com1 in enumerate(communities): \n",
    "    print('Size of node {}: {}'.format(i, len(com1)))\n",
    "    newG.add_node(i, size= len(com1)) \n",
    "\n",
    "weights = []\n",
    "\n",
    "# add edges \n",
    "for i,com1 in enumerate(communities): \n",
    "    print(f'progress: {i/len(communities)*100:.1f} %', end='\\r')\n",
    "    for j,com2 in enumerate(communities[i:]): \n",
    "        shared_edges = list(nx.algorithms.boundary.edge_boundary(fi_G2, com1, com2))\n",
    "        weight = len(shared_edges) / min([len(nx.subgraph(fi_G2, com1).edges()), len(nx.subgraph(fi_G2, com2).edges())])\n",
    "        weights.append(weight)\n",
    "        if weight > 0.1: \n",
    "            newG.add_edge(i,j, n_edges=len(shared_edges), weight=weight)\n",
    "        \n",
    "newG.remove_edges_from(nx.selfloop_edges(newG))"
   ]
  },
  {
   "cell_type": "code",
   "execution_count": null,
   "metadata": {},
   "outputs": [],
   "source": [
    "plt.figure()\n",
    "plt.hist(weights)\n",
    "plt.xlabel('edge weight')\n",
    "plt.show()"
   ]
  },
  {
   "cell_type": "code",
   "execution_count": null,
   "metadata": {},
   "outputs": [],
   "source": [
    "pos = nx.spring_layout(newG)\n",
    "\n",
    "plt.figure(figsize=(12,12))\n",
    "nx.draw_networkx_nodes(newG, pos=pos, nodelist=newG.nodes(), node_size=15*np.array(list(nx.get_node_attributes(newG, 'size').values()))**(0.5))\n",
    "nx.draw_networkx_labels(newG, pos=pos, font_color='w')\n",
    "nx.draw_networkx_edges(newG, pos=pos, edgelist=newG.edges(), width=np.array(list(nx.get_edge_attributes(newG, 'weight').values())))\n",
    "plt.figure()\n"
   ]
  },
  {
   "cell_type": "markdown",
   "metadata": {},
   "source": [
    "# Other Resources\n",
    "\n",
    "The `Stanford Network Analysis Project` has some excellent resources including a wide range of graph datasets. These may be useful for your term project and I highly recommend exploring their website: \n",
    "- [SNAP](http://snap.stanford.edu/index.html) \n",
    "- [SNAP bio datasets](http://snap.stanford.edu/biodata/index.html)\n",
    "- [SNAP for python](http://snap.stanford.edu/snappy/index.html) "
   ]
  }
 ],
 "metadata": {
  "interpreter": {
   "hash": "1d16fc2ce73c0d2d0d6cd84412b0a30f5096651be430be85f05f88617bad4a03"
  },
  "kernelspec": {
   "display_name": "Python 3 (ipykernel)",
   "language": "python",
   "name": "python3"
  },
  "language_info": {
   "codemirror_mode": {
    "name": "ipython",
    "version": 3
   },
   "file_extension": ".py",
   "mimetype": "text/x-python",
   "name": "python",
   "nbconvert_exporter": "python",
   "pygments_lexer": "ipython3",
   "version": "3.10.13"
  }
 },
 "nbformat": 4,
 "nbformat_minor": 2
}
